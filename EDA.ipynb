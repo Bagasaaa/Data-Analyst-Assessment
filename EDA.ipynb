{
 "cells": [
  {
   "cell_type": "code",
   "execution_count": 1,
   "metadata": {},
   "outputs": [],
   "source": [
    "import pandas as pd\n",
    "import re\n",
    "import matplotlib.pyplot as plt"
   ]
  },
  {
   "attachments": {},
   "cell_type": "markdown",
   "metadata": {},
   "source": [
    "## Daftar Isi:\n",
    "\n",
    "* Data Preprocessing\n",
    "* EDA & Visualisasi\n",
    "* Kesimpulan\n",
    "* Saran"
   ]
  },
  {
   "attachments": {},
   "cell_type": "markdown",
   "metadata": {},
   "source": [
    "## Data Preprocessing"
   ]
  },
  {
   "cell_type": "code",
   "execution_count": 2,
   "metadata": {},
   "outputs": [],
   "source": [
    "df_customer = pd.read_csv(\"dataset/Customer.csv\")\n",
    "df_campaign = pd.read_csv(\"dataset/Marketing Campaign.csv\")\n",
    "df_review_perusahaan = pd.read_csv(\"dataset/Review Perusahaan.csv\")\n",
    "df_review_produk = pd.read_csv(\"dataset/Review Produk.csv\")\n",
    "df_transaksi_main = pd.read_csv(\"dataset/Transaksi Main Product.csv\")\n",
    "df_transaksi_service = pd.read_csv(\"dataset/Transaksi Service.csv\")"
   ]
  },
  {
   "cell_type": "code",
   "execution_count": 3,
   "metadata": {},
   "outputs": [
    {
     "name": "stdout",
     "output_type": "stream",
     "text": [
      "<class 'pandas.core.frame.DataFrame'>\n",
      "RangeIndex: 55 entries, 0 to 54\n",
      "Data columns (total 4 columns):\n",
      " #   Column    Non-Null Count  Dtype \n",
      "---  ------    --------------  ----- \n",
      " 0   Name      55 non-null     object\n",
      " 1   Domisili  55 non-null     object\n",
      " 2   Usia      55 non-null     int64 \n",
      " 3   Gender    55 non-null     object\n",
      "dtypes: int64(1), object(3)\n",
      "memory usage: 1.8+ KB\n"
     ]
    }
   ],
   "source": [
    "df_customer.info()"
   ]
  },
  {
   "cell_type": "code",
   "execution_count": 4,
   "metadata": {},
   "outputs": [
    {
     "name": "stdout",
     "output_type": "stream",
     "text": [
      "<class 'pandas.core.frame.DataFrame'>\n",
      "RangeIndex: 7 entries, 0 to 6\n",
      "Data columns (total 4 columns):\n",
      " #   Column      Non-Null Count  Dtype \n",
      "---  ------      --------------  ----- \n",
      " 0   Name        7 non-null      object\n",
      " 1   Start_Date  7 non-null      object\n",
      " 2   End_Date    7 non-null      object\n",
      " 3   Budget      7 non-null      int64 \n",
      "dtypes: int64(1), object(3)\n",
      "memory usage: 352.0+ bytes\n"
     ]
    }
   ],
   "source": [
    "df_campaign.info()"
   ]
  },
  {
   "cell_type": "code",
   "execution_count": 5,
   "metadata": {},
   "outputs": [
    {
     "name": "stdout",
     "output_type": "stream",
     "text": [
      "<class 'pandas.core.frame.DataFrame'>\n",
      "RangeIndex: 55 entries, 0 to 54\n",
      "Data columns (total 2 columns):\n",
      " #   Column  Non-Null Count  Dtype \n",
      "---  ------  --------------  ----- \n",
      " 0   Name    55 non-null     object\n",
      " 1   Rating  55 non-null     int64 \n",
      "dtypes: int64(1), object(1)\n",
      "memory usage: 1008.0+ bytes\n"
     ]
    }
   ],
   "source": [
    "df_review_perusahaan.info()"
   ]
  },
  {
   "cell_type": "code",
   "execution_count": 6,
   "metadata": {},
   "outputs": [
    {
     "name": "stdout",
     "output_type": "stream",
     "text": [
      "<class 'pandas.core.frame.DataFrame'>\n",
      "RangeIndex: 458 entries, 0 to 457\n",
      "Data columns (total 2 columns):\n",
      " #   Column     Non-Null Count  Dtype  \n",
      "---  ------     --------------  -----  \n",
      " 0   ID_Review  458 non-null    int64  \n",
      " 1   Review     405 non-null    float64\n",
      "dtypes: float64(1), int64(1)\n",
      "memory usage: 7.3 KB\n"
     ]
    }
   ],
   "source": [
    "df_review_produk.info()"
   ]
  },
  {
   "cell_type": "code",
   "execution_count": 7,
   "metadata": {},
   "outputs": [
    {
     "name": "stdout",
     "output_type": "stream",
     "text": [
      "<class 'pandas.core.frame.DataFrame'>\n",
      "RangeIndex: 458 entries, 0 to 457\n",
      "Data columns (total 7 columns):\n",
      " #   Column             Non-Null Count  Dtype \n",
      "---  ------             --------------  ----- \n",
      " 0   Tanggal_Transaksi  458 non-null    object\n",
      " 1   Nama_Sales         458 non-null    object\n",
      " 2   Harga_Asli         441 non-null    object\n",
      " 3   Customer           458 non-null    object\n",
      " 4   Customer_copy      458 non-null    object\n",
      " 5   Tipe_Produk        458 non-null    object\n",
      " 6   ID_Transaksi       458 non-null    int64 \n",
      "dtypes: int64(1), object(6)\n",
      "memory usage: 25.2+ KB\n"
     ]
    }
   ],
   "source": [
    "df_transaksi_main.info()"
   ]
  },
  {
   "cell_type": "code",
   "execution_count": 8,
   "metadata": {},
   "outputs": [
    {
     "name": "stdout",
     "output_type": "stream",
     "text": [
      "<class 'pandas.core.frame.DataFrame'>\n",
      "RangeIndex: 560 entries, 0 to 559\n",
      "Data columns (total 5 columns):\n",
      " #   Column           Non-Null Count  Dtype \n",
      "---  ------           --------------  ----- \n",
      " 0   Tanggal_Service  560 non-null    object\n",
      " 1   Harga_Service    560 non-null    object\n",
      " 2   Customer         560 non-null    object\n",
      " 3   Tipe_Jasa        560 non-null    object\n",
      " 4   ID               560 non-null    int64 \n",
      "dtypes: int64(1), object(4)\n",
      "memory usage: 22.0+ KB\n"
     ]
    }
   ],
   "source": [
    "df_transaksi_service.info()"
   ]
  },
  {
   "cell_type": "code",
   "execution_count": 9,
   "metadata": {},
   "outputs": [
    {
     "data": {
      "text/plain": [
       "Name        0\n",
       "Domisili    0\n",
       "Usia        0\n",
       "Gender      0\n",
       "dtype: int64"
      ]
     },
     "execution_count": 9,
     "metadata": {},
     "output_type": "execute_result"
    }
   ],
   "source": [
    "df_customer.isna().sum()"
   ]
  },
  {
   "cell_type": "code",
   "execution_count": 10,
   "metadata": {},
   "outputs": [
    {
     "data": {
      "text/plain": [
       "Name          0\n",
       "Start_Date    0\n",
       "End_Date      0\n",
       "Budget        0\n",
       "dtype: int64"
      ]
     },
     "execution_count": 10,
     "metadata": {},
     "output_type": "execute_result"
    }
   ],
   "source": [
    "df_campaign.isna().sum()"
   ]
  },
  {
   "cell_type": "code",
   "execution_count": 11,
   "metadata": {},
   "outputs": [
    {
     "name": "stdout",
     "output_type": "stream",
     "text": [
      "<class 'pandas.core.frame.DataFrame'>\n",
      "RangeIndex: 7 entries, 0 to 6\n",
      "Data columns (total 4 columns):\n",
      " #   Column      Non-Null Count  Dtype \n",
      "---  ------      --------------  ----- \n",
      " 0   Name        7 non-null      object\n",
      " 1   Start_Date  7 non-null      object\n",
      " 2   End_Date    7 non-null      object\n",
      " 3   Budget      7 non-null      int64 \n",
      "dtypes: int64(1), object(3)\n",
      "memory usage: 352.0+ bytes\n"
     ]
    }
   ],
   "source": [
    "df_campaign.info()"
   ]
  },
  {
   "cell_type": "code",
   "execution_count": 12,
   "metadata": {},
   "outputs": [],
   "source": [
    "df_campaign['Budget'] = df_campaign['Budget'].astype(int)"
   ]
  },
  {
   "cell_type": "code",
   "execution_count": 13,
   "metadata": {},
   "outputs": [
    {
     "data": {
      "text/plain": [
       "Name      0\n",
       "Rating    0\n",
       "dtype: int64"
      ]
     },
     "execution_count": 13,
     "metadata": {},
     "output_type": "execute_result"
    }
   ],
   "source": [
    "df_review_perusahaan.isna().sum()"
   ]
  },
  {
   "cell_type": "code",
   "execution_count": 14,
   "metadata": {},
   "outputs": [
    {
     "name": "stderr",
     "output_type": "stream",
     "text": [
      "c:\\Users\\Acer\\anaconda3\\lib\\site-packages\\pandas\\core\\dtypes\\cast.py:1163: UserWarning: Parsing '31/01/2021' in DD/MM/YYYY format. Provide format or specify infer_datetime_format=True for consistent parsing.\n",
      "  to_datetime(arr).values,\n",
      "c:\\Users\\Acer\\anaconda3\\lib\\site-packages\\pandas\\core\\dtypes\\cast.py:1163: UserWarning: Parsing '28/02/2021' in DD/MM/YYYY format. Provide format or specify infer_datetime_format=True for consistent parsing.\n",
      "  to_datetime(arr).values,\n",
      "c:\\Users\\Acer\\anaconda3\\lib\\site-packages\\pandas\\core\\dtypes\\cast.py:1163: UserWarning: Parsing '31/03/2021' in DD/MM/YYYY format. Provide format or specify infer_datetime_format=True for consistent parsing.\n",
      "  to_datetime(arr).values,\n",
      "c:\\Users\\Acer\\anaconda3\\lib\\site-packages\\pandas\\core\\dtypes\\cast.py:1163: UserWarning: Parsing '30/04/2021' in DD/MM/YYYY format. Provide format or specify infer_datetime_format=True for consistent parsing.\n",
      "  to_datetime(arr).values,\n",
      "c:\\Users\\Acer\\anaconda3\\lib\\site-packages\\pandas\\core\\dtypes\\cast.py:1163: UserWarning: Parsing '31/05/2021' in DD/MM/YYYY format. Provide format or specify infer_datetime_format=True for consistent parsing.\n",
      "  to_datetime(arr).values,\n",
      "c:\\Users\\Acer\\anaconda3\\lib\\site-packages\\pandas\\core\\dtypes\\cast.py:1163: UserWarning: Parsing '30/06/2021' in DD/MM/YYYY format. Provide format or specify infer_datetime_format=True for consistent parsing.\n",
      "  to_datetime(arr).values,\n",
      "c:\\Users\\Acer\\anaconda3\\lib\\site-packages\\pandas\\core\\dtypes\\cast.py:1163: UserWarning: Parsing '31/07/2021' in DD/MM/YYYY format. Provide format or specify infer_datetime_format=True for consistent parsing.\n",
      "  to_datetime(arr).values,\n"
     ]
    }
   ],
   "source": [
    "df_campaign['Start_Date'] = df_campaign['Start_Date'].astype('datetime64[ns]')\n",
    "df_campaign['End_Date'] = df_campaign['End_Date'].astype('datetime64[ns]')"
   ]
  },
  {
   "cell_type": "code",
   "execution_count": 15,
   "metadata": {},
   "outputs": [
    {
     "data": {
      "text/plain": [
       "53"
      ]
     },
     "execution_count": 15,
     "metadata": {},
     "output_type": "execute_result"
    }
   ],
   "source": [
    "df_review_produk['Review'].isna().sum()"
   ]
  },
  {
   "cell_type": "code",
   "execution_count": 16,
   "metadata": {},
   "outputs": [],
   "source": [
    "df_review_produk['Review'] = df_review_produk['Review'].fillna(df_review_produk['Review'].median())"
   ]
  },
  {
   "cell_type": "code",
   "execution_count": 17,
   "metadata": {},
   "outputs": [
    {
     "data": {
      "text/plain": [
       "Tanggal_Transaksi     0\n",
       "Nama_Sales            0\n",
       "Harga_Asli           17\n",
       "Customer              0\n",
       "Customer_copy         0\n",
       "Tipe_Produk           0\n",
       "ID_Transaksi          0\n",
       "dtype: int64"
      ]
     },
     "execution_count": 17,
     "metadata": {},
     "output_type": "execute_result"
    }
   ],
   "source": [
    "df_transaksi_main.isna().sum()"
   ]
  },
  {
   "cell_type": "code",
   "execution_count": 18,
   "metadata": {},
   "outputs": [
    {
     "data": {
      "text/html": [
       "<div>\n",
       "<style scoped>\n",
       "    .dataframe tbody tr th:only-of-type {\n",
       "        vertical-align: middle;\n",
       "    }\n",
       "\n",
       "    .dataframe tbody tr th {\n",
       "        vertical-align: top;\n",
       "    }\n",
       "\n",
       "    .dataframe thead th {\n",
       "        text-align: right;\n",
       "    }\n",
       "</style>\n",
       "<table border=\"1\" class=\"dataframe\">\n",
       "  <thead>\n",
       "    <tr style=\"text-align: right;\">\n",
       "      <th></th>\n",
       "      <th>Tanggal_Transaksi</th>\n",
       "      <th>Nama_Sales</th>\n",
       "      <th>Harga_Asli</th>\n",
       "      <th>Customer</th>\n",
       "      <th>Customer_copy</th>\n",
       "      <th>Tipe_Produk</th>\n",
       "      <th>ID_Transaksi</th>\n",
       "    </tr>\n",
       "  </thead>\n",
       "  <tbody>\n",
       "    <tr>\n",
       "      <th>0</th>\n",
       "      <td>01/01/2021</td>\n",
       "      <td>Octroy</td>\n",
       "      <td>Rp88,000.00</td>\n",
       "      <td>Ufuoma</td>\n",
       "      <td>Ufuoma</td>\n",
       "      <td>Produk F</td>\n",
       "      <td>1</td>\n",
       "    </tr>\n",
       "    <tr>\n",
       "      <th>1</th>\n",
       "      <td>01/01/2021</td>\n",
       "      <td>Octroy</td>\n",
       "      <td>Rp405,000.00</td>\n",
       "      <td>Wiati</td>\n",
       "      <td>Wiati</td>\n",
       "      <td>Produk C</td>\n",
       "      <td>2</td>\n",
       "    </tr>\n",
       "    <tr>\n",
       "      <th>2</th>\n",
       "      <td>02/01/2021</td>\n",
       "      <td>Aini</td>\n",
       "      <td>Rp405,000.00</td>\n",
       "      <td>Cuphulien</td>\n",
       "      <td>Cuphulien</td>\n",
       "      <td>Produk A</td>\n",
       "      <td>3</td>\n",
       "    </tr>\n",
       "    <tr>\n",
       "      <th>3</th>\n",
       "      <td>02/01/2021</td>\n",
       "      <td>Agus</td>\n",
       "      <td>Rp170,000.00</td>\n",
       "      <td>Cuphulien</td>\n",
       "      <td>Cuphulien</td>\n",
       "      <td>Produk G</td>\n",
       "      <td>4</td>\n",
       "    </tr>\n",
       "    <tr>\n",
       "      <th>4</th>\n",
       "      <td>02/01/2021</td>\n",
       "      <td>Aini</td>\n",
       "      <td>Rp730,000.00</td>\n",
       "      <td>Nah</td>\n",
       "      <td>Nah</td>\n",
       "      <td>Produk D</td>\n",
       "      <td>5</td>\n",
       "    </tr>\n",
       "    <tr>\n",
       "      <th>...</th>\n",
       "      <td>...</td>\n",
       "      <td>...</td>\n",
       "      <td>...</td>\n",
       "      <td>...</td>\n",
       "      <td>...</td>\n",
       "      <td>...</td>\n",
       "      <td>...</td>\n",
       "    </tr>\n",
       "    <tr>\n",
       "      <th>453</th>\n",
       "      <td>06/08/2021</td>\n",
       "      <td>Octroy</td>\n",
       "      <td>Rp407,400.00</td>\n",
       "      <td>Adegoke</td>\n",
       "      <td>Adegoke</td>\n",
       "      <td>Produk A</td>\n",
       "      <td>454</td>\n",
       "    </tr>\n",
       "    <tr>\n",
       "      <th>454</th>\n",
       "      <td>06/08/2021</td>\n",
       "      <td>Octroy</td>\n",
       "      <td>Rp1,930,000.00</td>\n",
       "      <td>Qayug</td>\n",
       "      <td>Qayug</td>\n",
       "      <td>Produk C</td>\n",
       "      <td>455</td>\n",
       "    </tr>\n",
       "    <tr>\n",
       "      <th>455</th>\n",
       "      <td>06/08/2021</td>\n",
       "      <td>Aini</td>\n",
       "      <td>Rp1,031,500.00</td>\n",
       "      <td>Thauzhash</td>\n",
       "      <td>Thauzhash</td>\n",
       "      <td>Produk E</td>\n",
       "      <td>456</td>\n",
       "    </tr>\n",
       "    <tr>\n",
       "      <th>456</th>\n",
       "      <td>07/08/2021</td>\n",
       "      <td>Dena</td>\n",
       "      <td>Rp2,904,000.00</td>\n",
       "      <td>Wevishar</td>\n",
       "      <td>Wevishar</td>\n",
       "      <td>Produk G</td>\n",
       "      <td>457</td>\n",
       "    </tr>\n",
       "    <tr>\n",
       "      <th>457</th>\n",
       "      <td>07/08/2021</td>\n",
       "      <td>Octroy</td>\n",
       "      <td>Rp5,900,000.00</td>\n",
       "      <td>Taurai</td>\n",
       "      <td>Taurai</td>\n",
       "      <td>Produk D</td>\n",
       "      <td>458</td>\n",
       "    </tr>\n",
       "  </tbody>\n",
       "</table>\n",
       "<p>458 rows × 7 columns</p>\n",
       "</div>"
      ],
      "text/plain": [
       "    Tanggal_Transaksi Nama_Sales      Harga_Asli   Customer Customer_copy  \\\n",
       "0          01/01/2021     Octroy     Rp88,000.00     Ufuoma        Ufuoma   \n",
       "1          01/01/2021     Octroy    Rp405,000.00      Wiati         Wiati   \n",
       "2          02/01/2021       Aini    Rp405,000.00  Cuphulien     Cuphulien   \n",
       "3          02/01/2021       Agus    Rp170,000.00  Cuphulien     Cuphulien   \n",
       "4          02/01/2021       Aini    Rp730,000.00        Nah           Nah   \n",
       "..                ...        ...             ...        ...           ...   \n",
       "453        06/08/2021     Octroy    Rp407,400.00    Adegoke       Adegoke   \n",
       "454        06/08/2021     Octroy  Rp1,930,000.00      Qayug         Qayug   \n",
       "455        06/08/2021       Aini  Rp1,031,500.00  Thauzhash     Thauzhash   \n",
       "456        07/08/2021       Dena  Rp2,904,000.00   Wevishar      Wevishar   \n",
       "457        07/08/2021     Octroy  Rp5,900,000.00     Taurai        Taurai   \n",
       "\n",
       "    Tipe_Produk  ID_Transaksi  \n",
       "0      Produk F             1  \n",
       "1      Produk C             2  \n",
       "2      Produk A             3  \n",
       "3      Produk G             4  \n",
       "4      Produk D             5  \n",
       "..          ...           ...  \n",
       "453    Produk A           454  \n",
       "454    Produk C           455  \n",
       "455    Produk E           456  \n",
       "456    Produk G           457  \n",
       "457    Produk D           458  \n",
       "\n",
       "[458 rows x 7 columns]"
      ]
     },
     "execution_count": 18,
     "metadata": {},
     "output_type": "execute_result"
    }
   ],
   "source": [
    "df_transaksi_main"
   ]
  },
  {
   "cell_type": "code",
   "execution_count": 19,
   "metadata": {},
   "outputs": [
    {
     "name": "stdout",
     "output_type": "stream",
     "text": [
      "<class 'pandas.core.frame.DataFrame'>\n",
      "RangeIndex: 458 entries, 0 to 457\n",
      "Data columns (total 7 columns):\n",
      " #   Column             Non-Null Count  Dtype \n",
      "---  ------             --------------  ----- \n",
      " 0   Tanggal_Transaksi  458 non-null    object\n",
      " 1   Nama_Sales         458 non-null    object\n",
      " 2   Harga_Asli         441 non-null    object\n",
      " 3   Customer           458 non-null    object\n",
      " 4   Customer_copy      458 non-null    object\n",
      " 5   Tipe_Produk        458 non-null    object\n",
      " 6   ID_Transaksi       458 non-null    int64 \n",
      "dtypes: int64(1), object(6)\n",
      "memory usage: 25.2+ KB\n"
     ]
    }
   ],
   "source": [
    "df_transaksi_main.info()"
   ]
  },
  {
   "cell_type": "code",
   "execution_count": 20,
   "metadata": {},
   "outputs": [
    {
     "data": {
      "text/html": [
       "<div>\n",
       "<style scoped>\n",
       "    .dataframe tbody tr th:only-of-type {\n",
       "        vertical-align: middle;\n",
       "    }\n",
       "\n",
       "    .dataframe tbody tr th {\n",
       "        vertical-align: top;\n",
       "    }\n",
       "\n",
       "    .dataframe thead th {\n",
       "        text-align: right;\n",
       "    }\n",
       "</style>\n",
       "<table border=\"1\" class=\"dataframe\">\n",
       "  <thead>\n",
       "    <tr style=\"text-align: right;\">\n",
       "      <th></th>\n",
       "      <th>Tanggal_Transaksi</th>\n",
       "      <th>Nama_Sales</th>\n",
       "      <th>Harga_Asli</th>\n",
       "      <th>Customer</th>\n",
       "      <th>Customer_copy</th>\n",
       "      <th>Tipe_Produk</th>\n",
       "      <th>ID_Transaksi</th>\n",
       "    </tr>\n",
       "  </thead>\n",
       "  <tbody>\n",
       "    <tr>\n",
       "      <th>32</th>\n",
       "      <td>16/01/2021</td>\n",
       "      <td>Octroy</td>\n",
       "      <td>NaN</td>\n",
       "      <td>Bluaxia</td>\n",
       "      <td>Bluaxia</td>\n",
       "      <td>Produk G</td>\n",
       "      <td>33</td>\n",
       "    </tr>\n",
       "    <tr>\n",
       "      <th>33</th>\n",
       "      <td>16/01/2021</td>\n",
       "      <td>Aini</td>\n",
       "      <td>NaN</td>\n",
       "      <td>Saazteec</td>\n",
       "      <td>Saazteec</td>\n",
       "      <td>Produk D</td>\n",
       "      <td>34</td>\n",
       "    </tr>\n",
       "    <tr>\n",
       "      <th>46</th>\n",
       "      <td>25/01/2021</td>\n",
       "      <td>Octroy</td>\n",
       "      <td>NaN</td>\n",
       "      <td>Okafor</td>\n",
       "      <td>Okafor</td>\n",
       "      <td>Produk G</td>\n",
       "      <td>47</td>\n",
       "    </tr>\n",
       "    <tr>\n",
       "      <th>61</th>\n",
       "      <td>03/02/2021</td>\n",
       "      <td>Aini</td>\n",
       "      <td>NaN</td>\n",
       "      <td>Jeingzou</td>\n",
       "      <td>Jeingzou</td>\n",
       "      <td>Produk C</td>\n",
       "      <td>62</td>\n",
       "    </tr>\n",
       "    <tr>\n",
       "      <th>86</th>\n",
       "      <td>14/02/2021</td>\n",
       "      <td>Octroy</td>\n",
       "      <td>NaN</td>\n",
       "      <td>Ixoim</td>\n",
       "      <td>Ixoim</td>\n",
       "      <td>Produk G</td>\n",
       "      <td>87</td>\n",
       "    </tr>\n",
       "    <tr>\n",
       "      <th>88</th>\n",
       "      <td>17/02/2021</td>\n",
       "      <td>Agus</td>\n",
       "      <td>NaN</td>\n",
       "      <td>Glite</td>\n",
       "      <td>Glite</td>\n",
       "      <td>Produk D</td>\n",
       "      <td>89</td>\n",
       "    </tr>\n",
       "    <tr>\n",
       "      <th>127</th>\n",
       "      <td>09/03/2021</td>\n",
       "      <td>Agus</td>\n",
       "      <td>NaN</td>\n",
       "      <td>Jeingzou</td>\n",
       "      <td>Jeingzou</td>\n",
       "      <td>Produk F</td>\n",
       "      <td>128</td>\n",
       "    </tr>\n",
       "    <tr>\n",
       "      <th>136</th>\n",
       "      <td>11/03/2021</td>\n",
       "      <td>Dena</td>\n",
       "      <td>NaN</td>\n",
       "      <td>Axzab</td>\n",
       "      <td>Axzab</td>\n",
       "      <td>Produk G</td>\n",
       "      <td>137</td>\n",
       "    </tr>\n",
       "    <tr>\n",
       "      <th>164</th>\n",
       "      <td>23/03/2021</td>\n",
       "      <td>Octroy</td>\n",
       "      <td>NaN</td>\n",
       "      <td>Dejen</td>\n",
       "      <td>Dejen</td>\n",
       "      <td>Produk D</td>\n",
       "      <td>165</td>\n",
       "    </tr>\n",
       "    <tr>\n",
       "      <th>167</th>\n",
       "      <td>24/03/2021</td>\n",
       "      <td>Aini</td>\n",
       "      <td>NaN</td>\n",
       "      <td>Chi</td>\n",
       "      <td>Chi</td>\n",
       "      <td>Produk G</td>\n",
       "      <td>168</td>\n",
       "    </tr>\n",
       "    <tr>\n",
       "      <th>173</th>\n",
       "      <td>28/03/2021</td>\n",
       "      <td>Aini</td>\n",
       "      <td>NaN</td>\n",
       "      <td>Adegoke</td>\n",
       "      <td>Adegoke</td>\n",
       "      <td>Produk F</td>\n",
       "      <td>174</td>\n",
       "    </tr>\n",
       "    <tr>\n",
       "      <th>266</th>\n",
       "      <td>07/05/2021</td>\n",
       "      <td>Dena</td>\n",
       "      <td>NaN</td>\n",
       "      <td>Qayug</td>\n",
       "      <td>Qayug</td>\n",
       "      <td>Produk F</td>\n",
       "      <td>267</td>\n",
       "    </tr>\n",
       "    <tr>\n",
       "      <th>290</th>\n",
       "      <td>22/05/2021</td>\n",
       "      <td>Agus</td>\n",
       "      <td>NaN</td>\n",
       "      <td>Abdoul</td>\n",
       "      <td>Abdoul</td>\n",
       "      <td>Produk A</td>\n",
       "      <td>291</td>\n",
       "    </tr>\n",
       "    <tr>\n",
       "      <th>328</th>\n",
       "      <td>05/06/2021</td>\n",
       "      <td>Agus</td>\n",
       "      <td>NaN</td>\n",
       "      <td>Doux</td>\n",
       "      <td>Doux</td>\n",
       "      <td>Produk A</td>\n",
       "      <td>329</td>\n",
       "    </tr>\n",
       "    <tr>\n",
       "      <th>347</th>\n",
       "      <td>12/06/2021</td>\n",
       "      <td>Agus</td>\n",
       "      <td>NaN</td>\n",
       "      <td>Wiati</td>\n",
       "      <td>Wiati</td>\n",
       "      <td>Produk F</td>\n",
       "      <td>348</td>\n",
       "    </tr>\n",
       "    <tr>\n",
       "      <th>384</th>\n",
       "      <td>29/06/2021</td>\n",
       "      <td>Dena</td>\n",
       "      <td>NaN</td>\n",
       "      <td>Bzayan</td>\n",
       "      <td>Bzayan</td>\n",
       "      <td>Produk G</td>\n",
       "      <td>385</td>\n",
       "    </tr>\n",
       "    <tr>\n",
       "      <th>402</th>\n",
       "      <td>07/07/2021</td>\n",
       "      <td>Agus</td>\n",
       "      <td>NaN</td>\n",
       "      <td>Ixoim</td>\n",
       "      <td>Ixoim</td>\n",
       "      <td>Produk B</td>\n",
       "      <td>403</td>\n",
       "    </tr>\n",
       "  </tbody>\n",
       "</table>\n",
       "</div>"
      ],
      "text/plain": [
       "    Tanggal_Transaksi Nama_Sales Harga_Asli  Customer Customer_copy  \\\n",
       "32         16/01/2021     Octroy        NaN   Bluaxia       Bluaxia   \n",
       "33         16/01/2021       Aini        NaN  Saazteec      Saazteec   \n",
       "46         25/01/2021     Octroy        NaN    Okafor        Okafor   \n",
       "61         03/02/2021       Aini        NaN  Jeingzou      Jeingzou   \n",
       "86         14/02/2021     Octroy        NaN     Ixoim         Ixoim   \n",
       "88         17/02/2021       Agus        NaN     Glite         Glite   \n",
       "127        09/03/2021       Agus        NaN  Jeingzou      Jeingzou   \n",
       "136        11/03/2021       Dena        NaN     Axzab         Axzab   \n",
       "164        23/03/2021     Octroy        NaN     Dejen         Dejen   \n",
       "167        24/03/2021       Aini        NaN       Chi           Chi   \n",
       "173        28/03/2021       Aini        NaN   Adegoke       Adegoke   \n",
       "266        07/05/2021       Dena        NaN     Qayug         Qayug   \n",
       "290        22/05/2021       Agus        NaN    Abdoul        Abdoul   \n",
       "328        05/06/2021       Agus        NaN      Doux          Doux   \n",
       "347        12/06/2021       Agus        NaN     Wiati         Wiati   \n",
       "384        29/06/2021       Dena        NaN    Bzayan        Bzayan   \n",
       "402        07/07/2021       Agus        NaN     Ixoim         Ixoim   \n",
       "\n",
       "    Tipe_Produk  ID_Transaksi  \n",
       "32     Produk G            33  \n",
       "33     Produk D            34  \n",
       "46     Produk G            47  \n",
       "61     Produk C            62  \n",
       "86     Produk G            87  \n",
       "88     Produk D            89  \n",
       "127    Produk F           128  \n",
       "136    Produk G           137  \n",
       "164    Produk D           165  \n",
       "167    Produk G           168  \n",
       "173    Produk F           174  \n",
       "266    Produk F           267  \n",
       "290    Produk A           291  \n",
       "328    Produk A           329  \n",
       "347    Produk F           348  \n",
       "384    Produk G           385  \n",
       "402    Produk B           403  "
      ]
     },
     "execution_count": 20,
     "metadata": {},
     "output_type": "execute_result"
    }
   ],
   "source": [
    "df_transaksi_main.loc[df_transaksi_main['Harga_Asli'].isna()]"
   ]
  },
  {
   "cell_type": "code",
   "execution_count": 21,
   "metadata": {},
   "outputs": [],
   "source": [
    "df_transaksi_main['Harga_Asli'] = df_transaksi_main['Harga_Asli'].apply(lambda x: str(x).replace(\"Rp\", \"\").replace(\",\", \"\").replace(\".00\", \"\") if isinstance(x, str) else x)"
   ]
  },
  {
   "cell_type": "code",
   "execution_count": 22,
   "metadata": {},
   "outputs": [],
   "source": [
    "df_transaksi_main['Harga_Asli'] = df_transaksi_main['Harga_Asli'].fillna(df_transaksi_main['Harga_Asli'].median())"
   ]
  },
  {
   "cell_type": "code",
   "execution_count": 23,
   "metadata": {},
   "outputs": [],
   "source": [
    "df_transaksi_main['Harga_Asli'] = df_transaksi_main['Harga_Asli'].astype(int)"
   ]
  },
  {
   "cell_type": "code",
   "execution_count": 24,
   "metadata": {},
   "outputs": [
    {
     "data": {
      "text/plain": [
       "0"
      ]
     },
     "execution_count": 24,
     "metadata": {},
     "output_type": "execute_result"
    }
   ],
   "source": [
    "df_transaksi_main['Harga_Asli'].isna().sum()"
   ]
  },
  {
   "cell_type": "code",
   "execution_count": 25,
   "metadata": {},
   "outputs": [
    {
     "data": {
      "text/html": [
       "<div>\n",
       "<style scoped>\n",
       "    .dataframe tbody tr th:only-of-type {\n",
       "        vertical-align: middle;\n",
       "    }\n",
       "\n",
       "    .dataframe tbody tr th {\n",
       "        vertical-align: top;\n",
       "    }\n",
       "\n",
       "    .dataframe thead th {\n",
       "        text-align: right;\n",
       "    }\n",
       "</style>\n",
       "<table border=\"1\" class=\"dataframe\">\n",
       "  <thead>\n",
       "    <tr style=\"text-align: right;\">\n",
       "      <th></th>\n",
       "      <th>Tanggal_Transaksi</th>\n",
       "      <th>Nama_Sales</th>\n",
       "      <th>Harga_Asli</th>\n",
       "      <th>Customer</th>\n",
       "      <th>Customer_copy</th>\n",
       "      <th>Tipe_Produk</th>\n",
       "      <th>ID_Transaksi</th>\n",
       "    </tr>\n",
       "  </thead>\n",
       "  <tbody>\n",
       "    <tr>\n",
       "      <th>0</th>\n",
       "      <td>01/01/2021</td>\n",
       "      <td>Octroy</td>\n",
       "      <td>88000</td>\n",
       "      <td>Ufuoma</td>\n",
       "      <td>Ufuoma</td>\n",
       "      <td>Produk F</td>\n",
       "      <td>1</td>\n",
       "    </tr>\n",
       "    <tr>\n",
       "      <th>1</th>\n",
       "      <td>01/01/2021</td>\n",
       "      <td>Octroy</td>\n",
       "      <td>405000</td>\n",
       "      <td>Wiati</td>\n",
       "      <td>Wiati</td>\n",
       "      <td>Produk C</td>\n",
       "      <td>2</td>\n",
       "    </tr>\n",
       "    <tr>\n",
       "      <th>2</th>\n",
       "      <td>02/01/2021</td>\n",
       "      <td>Aini</td>\n",
       "      <td>405000</td>\n",
       "      <td>Cuphulien</td>\n",
       "      <td>Cuphulien</td>\n",
       "      <td>Produk A</td>\n",
       "      <td>3</td>\n",
       "    </tr>\n",
       "    <tr>\n",
       "      <th>3</th>\n",
       "      <td>02/01/2021</td>\n",
       "      <td>Agus</td>\n",
       "      <td>170000</td>\n",
       "      <td>Cuphulien</td>\n",
       "      <td>Cuphulien</td>\n",
       "      <td>Produk G</td>\n",
       "      <td>4</td>\n",
       "    </tr>\n",
       "    <tr>\n",
       "      <th>4</th>\n",
       "      <td>02/01/2021</td>\n",
       "      <td>Aini</td>\n",
       "      <td>730000</td>\n",
       "      <td>Nah</td>\n",
       "      <td>Nah</td>\n",
       "      <td>Produk D</td>\n",
       "      <td>5</td>\n",
       "    </tr>\n",
       "    <tr>\n",
       "      <th>...</th>\n",
       "      <td>...</td>\n",
       "      <td>...</td>\n",
       "      <td>...</td>\n",
       "      <td>...</td>\n",
       "      <td>...</td>\n",
       "      <td>...</td>\n",
       "      <td>...</td>\n",
       "    </tr>\n",
       "    <tr>\n",
       "      <th>453</th>\n",
       "      <td>06/08/2021</td>\n",
       "      <td>Octroy</td>\n",
       "      <td>407400</td>\n",
       "      <td>Adegoke</td>\n",
       "      <td>Adegoke</td>\n",
       "      <td>Produk A</td>\n",
       "      <td>454</td>\n",
       "    </tr>\n",
       "    <tr>\n",
       "      <th>454</th>\n",
       "      <td>06/08/2021</td>\n",
       "      <td>Octroy</td>\n",
       "      <td>1930000</td>\n",
       "      <td>Qayug</td>\n",
       "      <td>Qayug</td>\n",
       "      <td>Produk C</td>\n",
       "      <td>455</td>\n",
       "    </tr>\n",
       "    <tr>\n",
       "      <th>455</th>\n",
       "      <td>06/08/2021</td>\n",
       "      <td>Aini</td>\n",
       "      <td>1031500</td>\n",
       "      <td>Thauzhash</td>\n",
       "      <td>Thauzhash</td>\n",
       "      <td>Produk E</td>\n",
       "      <td>456</td>\n",
       "    </tr>\n",
       "    <tr>\n",
       "      <th>456</th>\n",
       "      <td>07/08/2021</td>\n",
       "      <td>Dena</td>\n",
       "      <td>2904000</td>\n",
       "      <td>Wevishar</td>\n",
       "      <td>Wevishar</td>\n",
       "      <td>Produk G</td>\n",
       "      <td>457</td>\n",
       "    </tr>\n",
       "    <tr>\n",
       "      <th>457</th>\n",
       "      <td>07/08/2021</td>\n",
       "      <td>Octroy</td>\n",
       "      <td>5900000</td>\n",
       "      <td>Taurai</td>\n",
       "      <td>Taurai</td>\n",
       "      <td>Produk D</td>\n",
       "      <td>458</td>\n",
       "    </tr>\n",
       "  </tbody>\n",
       "</table>\n",
       "<p>458 rows × 7 columns</p>\n",
       "</div>"
      ],
      "text/plain": [
       "    Tanggal_Transaksi Nama_Sales  Harga_Asli   Customer Customer_copy  \\\n",
       "0          01/01/2021     Octroy       88000     Ufuoma        Ufuoma   \n",
       "1          01/01/2021     Octroy      405000      Wiati         Wiati   \n",
       "2          02/01/2021       Aini      405000  Cuphulien     Cuphulien   \n",
       "3          02/01/2021       Agus      170000  Cuphulien     Cuphulien   \n",
       "4          02/01/2021       Aini      730000        Nah           Nah   \n",
       "..                ...        ...         ...        ...           ...   \n",
       "453        06/08/2021     Octroy      407400    Adegoke       Adegoke   \n",
       "454        06/08/2021     Octroy     1930000      Qayug         Qayug   \n",
       "455        06/08/2021       Aini     1031500  Thauzhash     Thauzhash   \n",
       "456        07/08/2021       Dena     2904000   Wevishar      Wevishar   \n",
       "457        07/08/2021     Octroy     5900000     Taurai        Taurai   \n",
       "\n",
       "    Tipe_Produk  ID_Transaksi  \n",
       "0      Produk F             1  \n",
       "1      Produk C             2  \n",
       "2      Produk A             3  \n",
       "3      Produk G             4  \n",
       "4      Produk D             5  \n",
       "..          ...           ...  \n",
       "453    Produk A           454  \n",
       "454    Produk C           455  \n",
       "455    Produk E           456  \n",
       "456    Produk G           457  \n",
       "457    Produk D           458  \n",
       "\n",
       "[458 rows x 7 columns]"
      ]
     },
     "execution_count": 25,
     "metadata": {},
     "output_type": "execute_result"
    }
   ],
   "source": [
    "df_transaksi_main"
   ]
  },
  {
   "cell_type": "code",
   "execution_count": 26,
   "metadata": {},
   "outputs": [
    {
     "data": {
      "text/plain": [
       "Tanggal_Service    0\n",
       "Harga_Service      0\n",
       "Customer           0\n",
       "Tipe_Jasa          0\n",
       "ID                 0\n",
       "dtype: int64"
      ]
     },
     "execution_count": 26,
     "metadata": {},
     "output_type": "execute_result"
    }
   ],
   "source": [
    "df_transaksi_service.isna().sum()"
   ]
  },
  {
   "cell_type": "code",
   "execution_count": 27,
   "metadata": {},
   "outputs": [],
   "source": [
    "df_transaksi_service['Harga_Service'] = df_transaksi_service['Harga_Service'].apply(lambda x: str(x).replace(\"Rp\", \"\").replace(\",\", \"\").replace(\".00\", \"\") if isinstance(x, str) else x)"
   ]
  },
  {
   "cell_type": "code",
   "execution_count": 28,
   "metadata": {},
   "outputs": [],
   "source": [
    "df_transaksi_service['Harga_Service'] = df_transaksi_service['Harga_Service'].astype(int)"
   ]
  },
  {
   "attachments": {},
   "cell_type": "markdown",
   "metadata": {},
   "source": [
    "## EDA (Exploratory Data Analysis)"
   ]
  },
  {
   "attachments": {},
   "cell_type": "markdown",
   "metadata": {},
   "source": [
    "* Berapa total transaksi & revenue produk dari masing-masing customer? (Tampilkan top 4)\n",
    "* Berapa total transaksi & revenue dari masing-masing kota? (Tampilkan top 4)\n",
    "* Berapa total revenue bulanan perusahaan? (produk + service)\n",
    "* Apa produk yang paling disukai berdasarkan Gender?\n",
    "* Bagaimana demografi customer?\n",
    "  * Jumlah customer per domisili\n",
    "  * Rata-rata usia berdasarkan gender per-Domisili\n",
    "  * Jumlah customer berdasarkan gender per-domisili\n",
    "* Berapa rata-rata rating yang diberikan dari customer ke perusahaan?\n",
    "* Berapa jumlah transaksi dan revenue yang didapatkan oleh perusahaan dari main product pada setiap campaign?"
   ]
  },
  {
   "attachments": {},
   "cell_type": "markdown",
   "metadata": {},
   "source": [
    "#### 1. Berapa total transaksi dan revenue dari masing-masing customer? (Mencari top 5 customer yang paling loyal)"
   ]
  },
  {
   "cell_type": "code",
   "execution_count": 29,
   "metadata": {},
   "outputs": [
    {
     "data": {
      "text/html": [
       "<div>\n",
       "<style scoped>\n",
       "    .dataframe tbody tr th:only-of-type {\n",
       "        vertical-align: middle;\n",
       "    }\n",
       "\n",
       "    .dataframe tbody tr th {\n",
       "        vertical-align: top;\n",
       "    }\n",
       "\n",
       "    .dataframe thead th {\n",
       "        text-align: right;\n",
       "    }\n",
       "</style>\n",
       "<table border=\"1\" class=\"dataframe\">\n",
       "  <thead>\n",
       "    <tr style=\"text-align: right;\">\n",
       "      <th></th>\n",
       "      <th>Tanggal_Transaksi</th>\n",
       "      <th>Nama_Sales</th>\n",
       "      <th>Harga_Asli</th>\n",
       "      <th>Customer</th>\n",
       "      <th>Customer_copy</th>\n",
       "      <th>Tipe_Produk</th>\n",
       "      <th>ID_Transaksi</th>\n",
       "    </tr>\n",
       "  </thead>\n",
       "  <tbody>\n",
       "    <tr>\n",
       "      <th>0</th>\n",
       "      <td>01/01/2021</td>\n",
       "      <td>Octroy</td>\n",
       "      <td>88000</td>\n",
       "      <td>Ufuoma</td>\n",
       "      <td>Ufuoma</td>\n",
       "      <td>Produk F</td>\n",
       "      <td>1</td>\n",
       "    </tr>\n",
       "    <tr>\n",
       "      <th>1</th>\n",
       "      <td>01/01/2021</td>\n",
       "      <td>Octroy</td>\n",
       "      <td>405000</td>\n",
       "      <td>Wiati</td>\n",
       "      <td>Wiati</td>\n",
       "      <td>Produk C</td>\n",
       "      <td>2</td>\n",
       "    </tr>\n",
       "    <tr>\n",
       "      <th>2</th>\n",
       "      <td>02/01/2021</td>\n",
       "      <td>Aini</td>\n",
       "      <td>405000</td>\n",
       "      <td>Cuphulien</td>\n",
       "      <td>Cuphulien</td>\n",
       "      <td>Produk A</td>\n",
       "      <td>3</td>\n",
       "    </tr>\n",
       "    <tr>\n",
       "      <th>3</th>\n",
       "      <td>02/01/2021</td>\n",
       "      <td>Agus</td>\n",
       "      <td>170000</td>\n",
       "      <td>Cuphulien</td>\n",
       "      <td>Cuphulien</td>\n",
       "      <td>Produk G</td>\n",
       "      <td>4</td>\n",
       "    </tr>\n",
       "    <tr>\n",
       "      <th>4</th>\n",
       "      <td>02/01/2021</td>\n",
       "      <td>Aini</td>\n",
       "      <td>730000</td>\n",
       "      <td>Nah</td>\n",
       "      <td>Nah</td>\n",
       "      <td>Produk D</td>\n",
       "      <td>5</td>\n",
       "    </tr>\n",
       "    <tr>\n",
       "      <th>...</th>\n",
       "      <td>...</td>\n",
       "      <td>...</td>\n",
       "      <td>...</td>\n",
       "      <td>...</td>\n",
       "      <td>...</td>\n",
       "      <td>...</td>\n",
       "      <td>...</td>\n",
       "    </tr>\n",
       "    <tr>\n",
       "      <th>453</th>\n",
       "      <td>06/08/2021</td>\n",
       "      <td>Octroy</td>\n",
       "      <td>407400</td>\n",
       "      <td>Adegoke</td>\n",
       "      <td>Adegoke</td>\n",
       "      <td>Produk A</td>\n",
       "      <td>454</td>\n",
       "    </tr>\n",
       "    <tr>\n",
       "      <th>454</th>\n",
       "      <td>06/08/2021</td>\n",
       "      <td>Octroy</td>\n",
       "      <td>1930000</td>\n",
       "      <td>Qayug</td>\n",
       "      <td>Qayug</td>\n",
       "      <td>Produk C</td>\n",
       "      <td>455</td>\n",
       "    </tr>\n",
       "    <tr>\n",
       "      <th>455</th>\n",
       "      <td>06/08/2021</td>\n",
       "      <td>Aini</td>\n",
       "      <td>1031500</td>\n",
       "      <td>Thauzhash</td>\n",
       "      <td>Thauzhash</td>\n",
       "      <td>Produk E</td>\n",
       "      <td>456</td>\n",
       "    </tr>\n",
       "    <tr>\n",
       "      <th>456</th>\n",
       "      <td>07/08/2021</td>\n",
       "      <td>Dena</td>\n",
       "      <td>2904000</td>\n",
       "      <td>Wevishar</td>\n",
       "      <td>Wevishar</td>\n",
       "      <td>Produk G</td>\n",
       "      <td>457</td>\n",
       "    </tr>\n",
       "    <tr>\n",
       "      <th>457</th>\n",
       "      <td>07/08/2021</td>\n",
       "      <td>Octroy</td>\n",
       "      <td>5900000</td>\n",
       "      <td>Taurai</td>\n",
       "      <td>Taurai</td>\n",
       "      <td>Produk D</td>\n",
       "      <td>458</td>\n",
       "    </tr>\n",
       "  </tbody>\n",
       "</table>\n",
       "<p>458 rows × 7 columns</p>\n",
       "</div>"
      ],
      "text/plain": [
       "    Tanggal_Transaksi Nama_Sales  Harga_Asli   Customer Customer_copy  \\\n",
       "0          01/01/2021     Octroy       88000     Ufuoma        Ufuoma   \n",
       "1          01/01/2021     Octroy      405000      Wiati         Wiati   \n",
       "2          02/01/2021       Aini      405000  Cuphulien     Cuphulien   \n",
       "3          02/01/2021       Agus      170000  Cuphulien     Cuphulien   \n",
       "4          02/01/2021       Aini      730000        Nah           Nah   \n",
       "..                ...        ...         ...        ...           ...   \n",
       "453        06/08/2021     Octroy      407400    Adegoke       Adegoke   \n",
       "454        06/08/2021     Octroy     1930000      Qayug         Qayug   \n",
       "455        06/08/2021       Aini     1031500  Thauzhash     Thauzhash   \n",
       "456        07/08/2021       Dena     2904000   Wevishar      Wevishar   \n",
       "457        07/08/2021     Octroy     5900000     Taurai        Taurai   \n",
       "\n",
       "    Tipe_Produk  ID_Transaksi  \n",
       "0      Produk F             1  \n",
       "1      Produk C             2  \n",
       "2      Produk A             3  \n",
       "3      Produk G             4  \n",
       "4      Produk D             5  \n",
       "..          ...           ...  \n",
       "453    Produk A           454  \n",
       "454    Produk C           455  \n",
       "455    Produk E           456  \n",
       "456    Produk G           457  \n",
       "457    Produk D           458  \n",
       "\n",
       "[458 rows x 7 columns]"
      ]
     },
     "execution_count": 29,
     "metadata": {},
     "output_type": "execute_result"
    }
   ],
   "source": [
    "df_transaksi_main"
   ]
  },
  {
   "cell_type": "code",
   "execution_count": 30,
   "metadata": {},
   "outputs": [
    {
     "data": {
      "text/plain": [
       "Bzayan      17\n",
       "Mygneo      16\n",
       "Nah         13\n",
       "Tichaona    13\n",
       "Ekyboo      12\n",
       "Name: Customer, dtype: int64"
      ]
     },
     "execution_count": 30,
     "metadata": {},
     "output_type": "execute_result"
    }
   ],
   "source": [
    "# Total transaksi dari masing-masing customer (Top 5)\n",
    "df_transaksi_main.Customer.value_counts().head()"
   ]
  },
  {
   "cell_type": "code",
   "execution_count": 31,
   "metadata": {},
   "outputs": [
    {
     "data": {
      "image/png": "[encoded data removed]",
      "text/plain": [
       "<Figure size 640x480 with 1 Axes>"
      ]
     },
     "metadata": {},
     "output_type": "display_data"
    }
   ],
   "source": [
    "import matplotlib.pyplot as plt\n",
    "\n",
    "# mengambil 5 data teratas dari kolom 'Customer'\n",
    "top_customers = df_transaksi_main.Customer.value_counts().head()\n",
    "\n",
    "# membuat bar chart\n",
    "plt.bar(top_customers.index, top_customers.values)\n",
    "\n",
    "# menambahkan judul dan label sumbu\n",
    "plt.title('Top 5 Customers')\n",
    "plt.xlabel('Nama Customer')\n",
    "plt.ylabel('Jumlah Transaksi')\n",
    "plt.ylim(0, 18)\n",
    "\n",
    "# menampilkan diagram\n",
    "plt.show()"
   ]
  },
  {
   "cell_type": "code",
   "execution_count": 32,
   "metadata": {},
   "outputs": [
    {
     "data": {
      "text/plain": [
       "Customer\n",
       "Evii      43180000\n",
       "Taurai    38992000\n",
       "Mygneo    25063607\n",
       "Ezii      24336000\n",
       "Bzayan    23883536\n",
       "Name: Harga_Asli, dtype: int32"
      ]
     },
     "execution_count": 32,
     "metadata": {},
     "output_type": "execute_result"
    }
   ],
   "source": [
    "# Total revenue dari masing-masing customer (Top 5)\n",
    "df_transaksi_main.groupby(by='Customer')['Harga_Asli'].sum().sort_values(ascending=False).head()"
   ]
  },
  {
   "cell_type": "code",
   "execution_count": 33,
   "metadata": {},
   "outputs": [
    {
     "data": {
      "image/png": "[encoded data removed]",
      "text/plain": [
       "<Figure size 640x480 with 1 Axes>"
      ]
     },
     "metadata": {},
     "output_type": "display_data"
    }
   ],
   "source": [
    "import matplotlib.pyplot as plt\n",
    "\n",
    "# mengambil 5 data teratas dari kolom 'Customer'\n",
    "top_customers_revenue = df_transaksi_main.groupby(by='Customer')['Harga_Asli'].sum().sort_values(ascending=False).head()\n",
    "\n",
    "# membuat bar chart\n",
    "plt.bar(top_customers_revenue.index, top_customers_revenue.values)\n",
    "\n",
    "# menambahkan judul dan label sumbu\n",
    "plt.title('Top 5 Customers Revenue')\n",
    "plt.xlabel('Nama Customer')\n",
    "plt.ylabel('Jumlah Revenue')\n",
    "plt.ylim(0, 45000000)\n",
    "\n",
    "# menampilkan diagram\n",
    "plt.show()"
   ]
  },
  {
   "attachments": {},
   "cell_type": "markdown",
   "metadata": {},
   "source": [
    "#### 2. Berapa total transaksi & revenue dari masing-masing kota? (Tampilkan top 5)"
   ]
  },
  {
   "cell_type": "code",
   "execution_count": 34,
   "metadata": {},
   "outputs": [
    {
     "data": {
      "text/html": [
       "<div>\n",
       "<style scoped>\n",
       "    .dataframe tbody tr th:only-of-type {\n",
       "        vertical-align: middle;\n",
       "    }\n",
       "\n",
       "    .dataframe tbody tr th {\n",
       "        vertical-align: top;\n",
       "    }\n",
       "\n",
       "    .dataframe thead th {\n",
       "        text-align: right;\n",
       "    }\n",
       "</style>\n",
       "<table border=\"1\" class=\"dataframe\">\n",
       "  <thead>\n",
       "    <tr style=\"text-align: right;\">\n",
       "      <th></th>\n",
       "      <th>Name</th>\n",
       "      <th>Domisili</th>\n",
       "      <th>Usia</th>\n",
       "      <th>Gender</th>\n",
       "    </tr>\n",
       "  </thead>\n",
       "  <tbody>\n",
       "    <tr>\n",
       "      <th>0</th>\n",
       "      <td>Abdoul</td>\n",
       "      <td>Bali</td>\n",
       "      <td>12</td>\n",
       "      <td>Pria</td>\n",
       "    </tr>\n",
       "    <tr>\n",
       "      <th>1</th>\n",
       "      <td>Ade</td>\n",
       "      <td>Jawa Barat</td>\n",
       "      <td>42</td>\n",
       "      <td>Wanita</td>\n",
       "    </tr>\n",
       "    <tr>\n",
       "      <th>2</th>\n",
       "      <td>Adegoke</td>\n",
       "      <td>Luar Indonesia</td>\n",
       "      <td>41</td>\n",
       "      <td>Pria</td>\n",
       "    </tr>\n",
       "    <tr>\n",
       "      <th>3</th>\n",
       "      <td>Axzab</td>\n",
       "      <td>Jakarta</td>\n",
       "      <td>24</td>\n",
       "      <td>Wanita</td>\n",
       "    </tr>\n",
       "    <tr>\n",
       "      <th>4</th>\n",
       "      <td>Bluaxia</td>\n",
       "      <td>Jawa Barat</td>\n",
       "      <td>11</td>\n",
       "      <td>Wanita</td>\n",
       "    </tr>\n",
       "  </tbody>\n",
       "</table>\n",
       "</div>"
      ],
      "text/plain": [
       "      Name        Domisili  Usia  Gender\n",
       "0   Abdoul            Bali    12    Pria\n",
       "1      Ade      Jawa Barat    42  Wanita\n",
       "2  Adegoke  Luar Indonesia    41    Pria\n",
       "3    Axzab         Jakarta    24  Wanita\n",
       "4  Bluaxia      Jawa Barat    11  Wanita"
      ]
     },
     "execution_count": 34,
     "metadata": {},
     "output_type": "execute_result"
    }
   ],
   "source": [
    "df_customer.head()"
   ]
  },
  {
   "cell_type": "code",
   "execution_count": 35,
   "metadata": {},
   "outputs": [
    {
     "data": {
      "text/html": [
       "<div>\n",
       "<style scoped>\n",
       "    .dataframe tbody tr th:only-of-type {\n",
       "        vertical-align: middle;\n",
       "    }\n",
       "\n",
       "    .dataframe tbody tr th {\n",
       "        vertical-align: top;\n",
       "    }\n",
       "\n",
       "    .dataframe thead th {\n",
       "        text-align: right;\n",
       "    }\n",
       "</style>\n",
       "<table border=\"1\" class=\"dataframe\">\n",
       "  <thead>\n",
       "    <tr style=\"text-align: right;\">\n",
       "      <th></th>\n",
       "      <th>Tanggal_Transaksi</th>\n",
       "      <th>Nama_Sales</th>\n",
       "      <th>Harga_Asli</th>\n",
       "      <th>Customer</th>\n",
       "      <th>Customer_copy</th>\n",
       "      <th>Tipe_Produk</th>\n",
       "      <th>ID_Transaksi</th>\n",
       "    </tr>\n",
       "  </thead>\n",
       "  <tbody>\n",
       "    <tr>\n",
       "      <th>0</th>\n",
       "      <td>01/01/2021</td>\n",
       "      <td>Octroy</td>\n",
       "      <td>88000</td>\n",
       "      <td>Ufuoma</td>\n",
       "      <td>Ufuoma</td>\n",
       "      <td>Produk F</td>\n",
       "      <td>1</td>\n",
       "    </tr>\n",
       "    <tr>\n",
       "      <th>1</th>\n",
       "      <td>01/01/2021</td>\n",
       "      <td>Octroy</td>\n",
       "      <td>405000</td>\n",
       "      <td>Wiati</td>\n",
       "      <td>Wiati</td>\n",
       "      <td>Produk C</td>\n",
       "      <td>2</td>\n",
       "    </tr>\n",
       "    <tr>\n",
       "      <th>2</th>\n",
       "      <td>02/01/2021</td>\n",
       "      <td>Aini</td>\n",
       "      <td>405000</td>\n",
       "      <td>Cuphulien</td>\n",
       "      <td>Cuphulien</td>\n",
       "      <td>Produk A</td>\n",
       "      <td>3</td>\n",
       "    </tr>\n",
       "    <tr>\n",
       "      <th>3</th>\n",
       "      <td>02/01/2021</td>\n",
       "      <td>Agus</td>\n",
       "      <td>170000</td>\n",
       "      <td>Cuphulien</td>\n",
       "      <td>Cuphulien</td>\n",
       "      <td>Produk G</td>\n",
       "      <td>4</td>\n",
       "    </tr>\n",
       "    <tr>\n",
       "      <th>4</th>\n",
       "      <td>02/01/2021</td>\n",
       "      <td>Aini</td>\n",
       "      <td>730000</td>\n",
       "      <td>Nah</td>\n",
       "      <td>Nah</td>\n",
       "      <td>Produk D</td>\n",
       "      <td>5</td>\n",
       "    </tr>\n",
       "  </tbody>\n",
       "</table>\n",
       "</div>"
      ],
      "text/plain": [
       "  Tanggal_Transaksi Nama_Sales  Harga_Asli   Customer Customer_copy  \\\n",
       "0        01/01/2021     Octroy       88000     Ufuoma        Ufuoma   \n",
       "1        01/01/2021     Octroy      405000      Wiati         Wiati   \n",
       "2        02/01/2021       Aini      405000  Cuphulien     Cuphulien   \n",
       "3        02/01/2021       Agus      170000  Cuphulien     Cuphulien   \n",
       "4        02/01/2021       Aini      730000        Nah           Nah   \n",
       "\n",
       "  Tipe_Produk  ID_Transaksi  \n",
       "0    Produk F             1  \n",
       "1    Produk C             2  \n",
       "2    Produk A             3  \n",
       "3    Produk G             4  \n",
       "4    Produk D             5  "
      ]
     },
     "execution_count": 35,
     "metadata": {},
     "output_type": "execute_result"
    }
   ],
   "source": [
    "df_transaksi_main.head()"
   ]
  },
  {
   "cell_type": "code",
   "execution_count": 36,
   "metadata": {},
   "outputs": [],
   "source": [
    "transaksi_kota = pd.merge(df_customer, df_transaksi_main, left_on='Name', right_on='Customer', how='right')"
   ]
  },
  {
   "cell_type": "code",
   "execution_count": 37,
   "metadata": {},
   "outputs": [
    {
     "data": {
      "text/html": [
       "<div>\n",
       "<style scoped>\n",
       "    .dataframe tbody tr th:only-of-type {\n",
       "        vertical-align: middle;\n",
       "    }\n",
       "\n",
       "    .dataframe tbody tr th {\n",
       "        vertical-align: top;\n",
       "    }\n",
       "\n",
       "    .dataframe thead th {\n",
       "        text-align: right;\n",
       "    }\n",
       "</style>\n",
       "<table border=\"1\" class=\"dataframe\">\n",
       "  <thead>\n",
       "    <tr style=\"text-align: right;\">\n",
       "      <th></th>\n",
       "      <th>Name</th>\n",
       "      <th>Domisili</th>\n",
       "      <th>Usia</th>\n",
       "      <th>Gender</th>\n",
       "      <th>Tanggal_Transaksi</th>\n",
       "      <th>Nama_Sales</th>\n",
       "      <th>Harga_Asli</th>\n",
       "      <th>Customer</th>\n",
       "      <th>Customer_copy</th>\n",
       "      <th>Tipe_Produk</th>\n",
       "      <th>ID_Transaksi</th>\n",
       "    </tr>\n",
       "  </thead>\n",
       "  <tbody>\n",
       "    <tr>\n",
       "      <th>0</th>\n",
       "      <td>Ufuoma</td>\n",
       "      <td>Bali</td>\n",
       "      <td>48</td>\n",
       "      <td>Pria</td>\n",
       "      <td>01/01/2021</td>\n",
       "      <td>Octroy</td>\n",
       "      <td>88000</td>\n",
       "      <td>Ufuoma</td>\n",
       "      <td>Ufuoma</td>\n",
       "      <td>Produk F</td>\n",
       "      <td>1</td>\n",
       "    </tr>\n",
       "    <tr>\n",
       "      <th>1</th>\n",
       "      <td>Wiati</td>\n",
       "      <td>Jakarta</td>\n",
       "      <td>47</td>\n",
       "      <td>Wanita</td>\n",
       "      <td>01/01/2021</td>\n",
       "      <td>Octroy</td>\n",
       "      <td>405000</td>\n",
       "      <td>Wiati</td>\n",
       "      <td>Wiati</td>\n",
       "      <td>Produk C</td>\n",
       "      <td>2</td>\n",
       "    </tr>\n",
       "    <tr>\n",
       "      <th>2</th>\n",
       "      <td>Cuphulien</td>\n",
       "      <td>Jawa Barat</td>\n",
       "      <td>42</td>\n",
       "      <td>Wanita</td>\n",
       "      <td>02/01/2021</td>\n",
       "      <td>Aini</td>\n",
       "      <td>405000</td>\n",
       "      <td>Cuphulien</td>\n",
       "      <td>Cuphulien</td>\n",
       "      <td>Produk A</td>\n",
       "      <td>3</td>\n",
       "    </tr>\n",
       "    <tr>\n",
       "      <th>3</th>\n",
       "      <td>Cuphulien</td>\n",
       "      <td>Jawa Barat</td>\n",
       "      <td>42</td>\n",
       "      <td>Wanita</td>\n",
       "      <td>02/01/2021</td>\n",
       "      <td>Agus</td>\n",
       "      <td>170000</td>\n",
       "      <td>Cuphulien</td>\n",
       "      <td>Cuphulien</td>\n",
       "      <td>Produk G</td>\n",
       "      <td>4</td>\n",
       "    </tr>\n",
       "    <tr>\n",
       "      <th>4</th>\n",
       "      <td>Nah</td>\n",
       "      <td>Jakarta</td>\n",
       "      <td>23</td>\n",
       "      <td>Wanita</td>\n",
       "      <td>02/01/2021</td>\n",
       "      <td>Aini</td>\n",
       "      <td>730000</td>\n",
       "      <td>Nah</td>\n",
       "      <td>Nah</td>\n",
       "      <td>Produk D</td>\n",
       "      <td>5</td>\n",
       "    </tr>\n",
       "    <tr>\n",
       "      <th>...</th>\n",
       "      <td>...</td>\n",
       "      <td>...</td>\n",
       "      <td>...</td>\n",
       "      <td>...</td>\n",
       "      <td>...</td>\n",
       "      <td>...</td>\n",
       "      <td>...</td>\n",
       "      <td>...</td>\n",
       "      <td>...</td>\n",
       "      <td>...</td>\n",
       "      <td>...</td>\n",
       "    </tr>\n",
       "    <tr>\n",
       "      <th>453</th>\n",
       "      <td>Adegoke</td>\n",
       "      <td>Luar Indonesia</td>\n",
       "      <td>41</td>\n",
       "      <td>Pria</td>\n",
       "      <td>06/08/2021</td>\n",
       "      <td>Octroy</td>\n",
       "      <td>407400</td>\n",
       "      <td>Adegoke</td>\n",
       "      <td>Adegoke</td>\n",
       "      <td>Produk A</td>\n",
       "      <td>454</td>\n",
       "    </tr>\n",
       "    <tr>\n",
       "      <th>454</th>\n",
       "      <td>Qayug</td>\n",
       "      <td>Luar Indonesia</td>\n",
       "      <td>24</td>\n",
       "      <td>Wanita</td>\n",
       "      <td>06/08/2021</td>\n",
       "      <td>Octroy</td>\n",
       "      <td>1930000</td>\n",
       "      <td>Qayug</td>\n",
       "      <td>Qayug</td>\n",
       "      <td>Produk C</td>\n",
       "      <td>455</td>\n",
       "    </tr>\n",
       "    <tr>\n",
       "      <th>455</th>\n",
       "      <td>Thauzhash</td>\n",
       "      <td>Bali</td>\n",
       "      <td>45</td>\n",
       "      <td>Wanita</td>\n",
       "      <td>06/08/2021</td>\n",
       "      <td>Aini</td>\n",
       "      <td>1031500</td>\n",
       "      <td>Thauzhash</td>\n",
       "      <td>Thauzhash</td>\n",
       "      <td>Produk E</td>\n",
       "      <td>456</td>\n",
       "    </tr>\n",
       "    <tr>\n",
       "      <th>456</th>\n",
       "      <td>Wevishar</td>\n",
       "      <td>Jakarta</td>\n",
       "      <td>41</td>\n",
       "      <td>Wanita</td>\n",
       "      <td>07/08/2021</td>\n",
       "      <td>Dena</td>\n",
       "      <td>2904000</td>\n",
       "      <td>Wevishar</td>\n",
       "      <td>Wevishar</td>\n",
       "      <td>Produk G</td>\n",
       "      <td>457</td>\n",
       "    </tr>\n",
       "    <tr>\n",
       "      <th>457</th>\n",
       "      <td>Taurai</td>\n",
       "      <td>Jakarta</td>\n",
       "      <td>35</td>\n",
       "      <td>Wanita</td>\n",
       "      <td>07/08/2021</td>\n",
       "      <td>Octroy</td>\n",
       "      <td>5900000</td>\n",
       "      <td>Taurai</td>\n",
       "      <td>Taurai</td>\n",
       "      <td>Produk D</td>\n",
       "      <td>458</td>\n",
       "    </tr>\n",
       "  </tbody>\n",
       "</table>\n",
       "<p>458 rows × 11 columns</p>\n",
       "</div>"
      ],
      "text/plain": [
       "          Name        Domisili  Usia  Gender Tanggal_Transaksi Nama_Sales  \\\n",
       "0       Ufuoma            Bali    48    Pria        01/01/2021     Octroy   \n",
       "1        Wiati         Jakarta    47  Wanita        01/01/2021     Octroy   \n",
       "2    Cuphulien      Jawa Barat    42  Wanita        02/01/2021       Aini   \n",
       "3    Cuphulien      Jawa Barat    42  Wanita        02/01/2021       Agus   \n",
       "4          Nah         Jakarta    23  Wanita        02/01/2021       Aini   \n",
       "..         ...             ...   ...     ...               ...        ...   \n",
       "453    Adegoke  Luar Indonesia    41    Pria        06/08/2021     Octroy   \n",
       "454      Qayug  Luar Indonesia    24  Wanita        06/08/2021     Octroy   \n",
       "455  Thauzhash            Bali    45  Wanita        06/08/2021       Aini   \n",
       "456   Wevishar         Jakarta    41  Wanita        07/08/2021       Dena   \n",
       "457     Taurai         Jakarta    35  Wanita        07/08/2021     Octroy   \n",
       "\n",
       "     Harga_Asli   Customer Customer_copy Tipe_Produk  ID_Transaksi  \n",
       "0         88000     Ufuoma        Ufuoma    Produk F             1  \n",
       "1        405000      Wiati         Wiati    Produk C             2  \n",
       "2        405000  Cuphulien     Cuphulien    Produk A             3  \n",
       "3        170000  Cuphulien     Cuphulien    Produk G             4  \n",
       "4        730000        Nah           Nah    Produk D             5  \n",
       "..          ...        ...           ...         ...           ...  \n",
       "453      407400    Adegoke       Adegoke    Produk A           454  \n",
       "454     1930000      Qayug         Qayug    Produk C           455  \n",
       "455     1031500  Thauzhash     Thauzhash    Produk E           456  \n",
       "456     2904000   Wevishar      Wevishar    Produk G           457  \n",
       "457     5900000     Taurai        Taurai    Produk D           458  \n",
       "\n",
       "[458 rows x 11 columns]"
      ]
     },
     "execution_count": 37,
     "metadata": {},
     "output_type": "execute_result"
    }
   ],
   "source": [
    "transaksi_kota"
   ]
  },
  {
   "cell_type": "code",
   "execution_count": 38,
   "metadata": {},
   "outputs": [
    {
     "data": {
      "text/plain": [
       "Domisili\n",
       "Jawa Barat        203480015\n",
       "Jakarta           168396590\n",
       "Bali              119182433\n",
       "Luar Indonesia    106920811\n",
       "Name: Harga_Asli, dtype: int32"
      ]
     },
     "execution_count": 38,
     "metadata": {},
     "output_type": "execute_result"
    }
   ],
   "source": [
    "# Total revenue dari masing-masing kota (Top 4)\n",
    "transaksi_kota.groupby(by='Domisili')['Harga_Asli'].sum().sort_values(ascending=False).head()"
   ]
  },
  {
   "cell_type": "code",
   "execution_count": 39,
   "metadata": {},
   "outputs": [
    {
     "data": {
      "image/png": "[encoded data removed]",
      "text/plain": [
       "<Figure size 640x480 with 1 Axes>"
      ]
     },
     "metadata": {},
     "output_type": "display_data"
    }
   ],
   "source": [
    "import matplotlib.pyplot as plt\n",
    "\n",
    "# mengambil 5 data teratas dari kolom 'Customer'\n",
    "kota_revenue = transaksi_kota.groupby(by='Domisili')['Harga_Asli'].sum().sort_values(ascending=False).head()\n",
    "\n",
    "# membuat bar chart\n",
    "plt.bar(kota_revenue.index, kota_revenue.values)\n",
    "\n",
    "# menambahkan judul dan label sumbu\n",
    "plt.title('Top 4 Revenue Provinsi')\n",
    "plt.xlabel('Nama Kota')\n",
    "plt.ylabel('Jumlah Revenue')\n",
    "plt.ylim(0, 205000000)\n",
    "\n",
    "# menampilkan diagram\n",
    "plt.show()"
   ]
  },
  {
   "cell_type": "code",
   "execution_count": 40,
   "metadata": {},
   "outputs": [
    {
     "data": {
      "text/plain": [
       "Jawa Barat        146\n",
       "Jakarta           115\n",
       "Luar Indonesia    101\n",
       "Bali               96\n",
       "Name: Domisili, dtype: int64"
      ]
     },
     "execution_count": 40,
     "metadata": {},
     "output_type": "execute_result"
    }
   ],
   "source": [
    "# Total transaksi dari masing-masing (Top 4)\n",
    "transaksi_kota['Domisili'].value_counts().sort_values(ascending=False).head()"
   ]
  },
  {
   "cell_type": "code",
   "execution_count": 41,
   "metadata": {},
   "outputs": [
    {
     "data": {
      "image/png": "[encoded data removed]",
      "text/plain": [
       "<Figure size 640x480 with 1 Axes>"
      ]
     },
     "metadata": {},
     "output_type": "display_data"
    }
   ],
   "source": [
    "import matplotlib.pyplot as plt\n",
    "\n",
    "# mengambil 5 data teratas dari kolom 'Customer'\n",
    "kota_transaksi = transaksi_kota['Domisili'].value_counts().sort_values(ascending=False).head()\n",
    "\n",
    "# membuat bar chart\n",
    "plt.bar(kota_transaksi.index, kota_transaksi.values)\n",
    "\n",
    "# menambahkan judul dan label sumbu\n",
    "plt.title('Top 4 Transaksi Provinsi')\n",
    "plt.xlabel('Nama Provinsi')\n",
    "plt.ylabel('Jumlah Transaksi')\n",
    "plt.ylim(0, 200)\n",
    "\n",
    "# menampilkan diagram\n",
    "plt.show()"
   ]
  },
  {
   "attachments": {},
   "cell_type": "markdown",
   "metadata": {},
   "source": [
    "#### 3. Berapa total revenue bulanan perusahaan? (produk + service)"
   ]
  },
  {
   "cell_type": "code",
   "execution_count": 42,
   "metadata": {},
   "outputs": [
    {
     "data": {
      "text/html": [
       "<div>\n",
       "<style scoped>\n",
       "    .dataframe tbody tr th:only-of-type {\n",
       "        vertical-align: middle;\n",
       "    }\n",
       "\n",
       "    .dataframe tbody tr th {\n",
       "        vertical-align: top;\n",
       "    }\n",
       "\n",
       "    .dataframe thead th {\n",
       "        text-align: right;\n",
       "    }\n",
       "</style>\n",
       "<table border=\"1\" class=\"dataframe\">\n",
       "  <thead>\n",
       "    <tr style=\"text-align: right;\">\n",
       "      <th></th>\n",
       "      <th>Tanggal_Transaksi</th>\n",
       "      <th>Nama_Sales</th>\n",
       "      <th>Harga_Asli</th>\n",
       "      <th>Customer</th>\n",
       "      <th>Customer_copy</th>\n",
       "      <th>Tipe_Produk</th>\n",
       "      <th>ID_Transaksi</th>\n",
       "    </tr>\n",
       "  </thead>\n",
       "  <tbody>\n",
       "    <tr>\n",
       "      <th>0</th>\n",
       "      <td>01/01/2021</td>\n",
       "      <td>Octroy</td>\n",
       "      <td>88000</td>\n",
       "      <td>Ufuoma</td>\n",
       "      <td>Ufuoma</td>\n",
       "      <td>Produk F</td>\n",
       "      <td>1</td>\n",
       "    </tr>\n",
       "    <tr>\n",
       "      <th>1</th>\n",
       "      <td>01/01/2021</td>\n",
       "      <td>Octroy</td>\n",
       "      <td>405000</td>\n",
       "      <td>Wiati</td>\n",
       "      <td>Wiati</td>\n",
       "      <td>Produk C</td>\n",
       "      <td>2</td>\n",
       "    </tr>\n",
       "    <tr>\n",
       "      <th>2</th>\n",
       "      <td>02/01/2021</td>\n",
       "      <td>Aini</td>\n",
       "      <td>405000</td>\n",
       "      <td>Cuphulien</td>\n",
       "      <td>Cuphulien</td>\n",
       "      <td>Produk A</td>\n",
       "      <td>3</td>\n",
       "    </tr>\n",
       "    <tr>\n",
       "      <th>3</th>\n",
       "      <td>02/01/2021</td>\n",
       "      <td>Agus</td>\n",
       "      <td>170000</td>\n",
       "      <td>Cuphulien</td>\n",
       "      <td>Cuphulien</td>\n",
       "      <td>Produk G</td>\n",
       "      <td>4</td>\n",
       "    </tr>\n",
       "    <tr>\n",
       "      <th>4</th>\n",
       "      <td>02/01/2021</td>\n",
       "      <td>Aini</td>\n",
       "      <td>730000</td>\n",
       "      <td>Nah</td>\n",
       "      <td>Nah</td>\n",
       "      <td>Produk D</td>\n",
       "      <td>5</td>\n",
       "    </tr>\n",
       "  </tbody>\n",
       "</table>\n",
       "</div>"
      ],
      "text/plain": [
       "  Tanggal_Transaksi Nama_Sales  Harga_Asli   Customer Customer_copy  \\\n",
       "0        01/01/2021     Octroy       88000     Ufuoma        Ufuoma   \n",
       "1        01/01/2021     Octroy      405000      Wiati         Wiati   \n",
       "2        02/01/2021       Aini      405000  Cuphulien     Cuphulien   \n",
       "3        02/01/2021       Agus      170000  Cuphulien     Cuphulien   \n",
       "4        02/01/2021       Aini      730000        Nah           Nah   \n",
       "\n",
       "  Tipe_Produk  ID_Transaksi  \n",
       "0    Produk F             1  \n",
       "1    Produk C             2  \n",
       "2    Produk A             3  \n",
       "3    Produk G             4  \n",
       "4    Produk D             5  "
      ]
     },
     "execution_count": 42,
     "metadata": {},
     "output_type": "execute_result"
    }
   ],
   "source": [
    "df_transaksi_main.head()"
   ]
  },
  {
   "cell_type": "code",
   "execution_count": 43,
   "metadata": {},
   "outputs": [
    {
     "name": "stderr",
     "output_type": "stream",
     "text": [
      "c:\\Users\\Acer\\anaconda3\\lib\\site-packages\\pandas\\core\\tools\\datetimes.py:1063: UserWarning: Parsing '14/01/2021' in DD/MM/YYYY format. Provide format or specify infer_datetime_format=True for consistent parsing.\n",
      "  cache_array = _maybe_cache(arg, format, cache, convert_listlike)\n",
      "c:\\Users\\Acer\\anaconda3\\lib\\site-packages\\pandas\\core\\tools\\datetimes.py:1063: UserWarning: Parsing '15/01/2021' in DD/MM/YYYY format. Provide format or specify infer_datetime_format=True for consistent parsing.\n",
      "  cache_array = _maybe_cache(arg, format, cache, convert_listlike)\n",
      "c:\\Users\\Acer\\anaconda3\\lib\\site-packages\\pandas\\core\\tools\\datetimes.py:1063: UserWarning: Parsing '16/01/2021' in DD/MM/YYYY format. Provide format or specify infer_datetime_format=True for consistent parsing.\n",
      "  cache_array = _maybe_cache(arg, format, cache, convert_listlike)\n",
      "c:\\Users\\Acer\\anaconda3\\lib\\site-packages\\pandas\\core\\tools\\datetimes.py:1063: UserWarning: Parsing '17/01/2021' in DD/MM/YYYY format. Provide format or specify infer_datetime_format=True for consistent parsing.\n",
      "  cache_array = _maybe_cache(arg, format, cache, convert_listlike)\n",
      "c:\\Users\\Acer\\anaconda3\\lib\\site-packages\\pandas\\core\\tools\\datetimes.py:1063: UserWarning: Parsing '18/01/2021' in DD/MM/YYYY format. Provide format or specify infer_datetime_format=True for consistent parsing.\n",
      "  cache_array = _maybe_cache(arg, format, cache, convert_listlike)\n",
      "c:\\Users\\Acer\\anaconda3\\lib\\site-packages\\pandas\\core\\tools\\datetimes.py:1063: UserWarning: Parsing '20/01/2021' in DD/MM/YYYY format. Provide format or specify infer_datetime_format=True for consistent parsing.\n",
      "  cache_array = _maybe_cache(arg, format, cache, convert_listlike)\n",
      "c:\\Users\\Acer\\anaconda3\\lib\\site-packages\\pandas\\core\\tools\\datetimes.py:1063: UserWarning: Parsing '22/01/2021' in DD/MM/YYYY format. Provide format or specify infer_datetime_format=True for consistent parsing.\n",
      "  cache_array = _maybe_cache(arg, format, cache, convert_listlike)\n",
      "c:\\Users\\Acer\\anaconda3\\lib\\site-packages\\pandas\\core\\tools\\datetimes.py:1063: UserWarning: Parsing '23/01/2021' in DD/MM/YYYY format. Provide format or specify infer_datetime_format=True for consistent parsing.\n",
      "  cache_array = _maybe_cache(arg, format, cache, convert_listlike)\n",
      "c:\\Users\\Acer\\anaconda3\\lib\\site-packages\\pandas\\core\\tools\\datetimes.py:1063: UserWarning: Parsing '24/01/2021' in DD/MM/YYYY format. Provide format or specify infer_datetime_format=True for consistent parsing.\n",
      "  cache_array = _maybe_cache(arg, format, cache, convert_listlike)\n",
      "c:\\Users\\Acer\\anaconda3\\lib\\site-packages\\pandas\\core\\tools\\datetimes.py:1063: UserWarning: Parsing '25/01/2021' in DD/MM/YYYY format. Provide format or specify infer_datetime_format=True for consistent parsing.\n",
      "  cache_array = _maybe_cache(arg, format, cache, convert_listlike)\n",
      "c:\\Users\\Acer\\anaconda3\\lib\\site-packages\\pandas\\core\\tools\\datetimes.py:1063: UserWarning: Parsing '26/01/2021' in DD/MM/YYYY format. Provide format or specify infer_datetime_format=True for consistent parsing.\n",
      "  cache_array = _maybe_cache(arg, format, cache, convert_listlike)\n",
      "c:\\Users\\Acer\\anaconda3\\lib\\site-packages\\pandas\\core\\tools\\datetimes.py:1063: UserWarning: Parsing '27/01/2021' in DD/MM/YYYY format. Provide format or specify infer_datetime_format=True for consistent parsing.\n",
      "  cache_array = _maybe_cache(arg, format, cache, convert_listlike)\n",
      "c:\\Users\\Acer\\anaconda3\\lib\\site-packages\\pandas\\core\\tools\\datetimes.py:1063: UserWarning: Parsing '28/01/2021' in DD/MM/YYYY format. Provide format or specify infer_datetime_format=True for consistent parsing.\n",
      "  cache_array = _maybe_cache(arg, format, cache, convert_listlike)\n",
      "c:\\Users\\Acer\\anaconda3\\lib\\site-packages\\pandas\\core\\tools\\datetimes.py:1063: UserWarning: Parsing '29/01/2021' in DD/MM/YYYY format. Provide format or specify infer_datetime_format=True for consistent parsing.\n",
      "  cache_array = _maybe_cache(arg, format, cache, convert_listlike)\n",
      "c:\\Users\\Acer\\anaconda3\\lib\\site-packages\\pandas\\core\\tools\\datetimes.py:1063: UserWarning: Parsing '30/01/2021' in DD/MM/YYYY format. Provide format or specify infer_datetime_format=True for consistent parsing.\n",
      "  cache_array = _maybe_cache(arg, format, cache, convert_listlike)\n",
      "c:\\Users\\Acer\\anaconda3\\lib\\site-packages\\pandas\\core\\tools\\datetimes.py:1063: UserWarning: Parsing '31/01/2021' in DD/MM/YYYY format. Provide format or specify infer_datetime_format=True for consistent parsing.\n",
      "  cache_array = _maybe_cache(arg, format, cache, convert_listlike)\n",
      "c:\\Users\\Acer\\anaconda3\\lib\\site-packages\\pandas\\core\\tools\\datetimes.py:1063: UserWarning: Parsing '14/02/2021' in DD/MM/YYYY format. Provide format or specify infer_datetime_format=True for consistent parsing.\n",
      "  cache_array = _maybe_cache(arg, format, cache, convert_listlike)\n",
      "c:\\Users\\Acer\\anaconda3\\lib\\site-packages\\pandas\\core\\tools\\datetimes.py:1063: UserWarning: Parsing '17/02/2021' in DD/MM/YYYY format. Provide format or specify infer_datetime_format=True for consistent parsing.\n",
      "  cache_array = _maybe_cache(arg, format, cache, convert_listlike)\n",
      "c:\\Users\\Acer\\anaconda3\\lib\\site-packages\\pandas\\core\\tools\\datetimes.py:1063: UserWarning: Parsing '18/02/2021' in DD/MM/YYYY format. Provide format or specify infer_datetime_format=True for consistent parsing.\n",
      "  cache_array = _maybe_cache(arg, format, cache, convert_listlike)\n",
      "c:\\Users\\Acer\\anaconda3\\lib\\site-packages\\pandas\\core\\tools\\datetimes.py:1063: UserWarning: Parsing '19/02/2021' in DD/MM/YYYY format. Provide format or specify infer_datetime_format=True for consistent parsing.\n",
      "  cache_array = _maybe_cache(arg, format, cache, convert_listlike)\n",
      "c:\\Users\\Acer\\anaconda3\\lib\\site-packages\\pandas\\core\\tools\\datetimes.py:1063: UserWarning: Parsing '20/02/2021' in DD/MM/YYYY format. Provide format or specify infer_datetime_format=True for consistent parsing.\n",
      "  cache_array = _maybe_cache(arg, format, cache, convert_listlike)\n",
      "c:\\Users\\Acer\\anaconda3\\lib\\site-packages\\pandas\\core\\tools\\datetimes.py:1063: UserWarning: Parsing '21/02/2021' in DD/MM/YYYY format. Provide format or specify infer_datetime_format=True for consistent parsing.\n",
      "  cache_array = _maybe_cache(arg, format, cache, convert_listlike)\n",
      "c:\\Users\\Acer\\anaconda3\\lib\\site-packages\\pandas\\core\\tools\\datetimes.py:1063: UserWarning: Parsing '22/02/2021' in DD/MM/YYYY format. Provide format or specify infer_datetime_format=True for consistent parsing.\n",
      "  cache_array = _maybe_cache(arg, format, cache, convert_listlike)\n",
      "c:\\Users\\Acer\\anaconda3\\lib\\site-packages\\pandas\\core\\tools\\datetimes.py:1063: UserWarning: Parsing '23/02/2021' in DD/MM/YYYY format. Provide format or specify infer_datetime_format=True for consistent parsing.\n",
      "  cache_array = _maybe_cache(arg, format, cache, convert_listlike)\n",
      "c:\\Users\\Acer\\anaconda3\\lib\\site-packages\\pandas\\core\\tools\\datetimes.py:1063: UserWarning: Parsing '24/02/2021' in DD/MM/YYYY format. Provide format or specify infer_datetime_format=True for consistent parsing.\n",
      "  cache_array = _maybe_cache(arg, format, cache, convert_listlike)\n",
      "c:\\Users\\Acer\\anaconda3\\lib\\site-packages\\pandas\\core\\tools\\datetimes.py:1063: UserWarning: Parsing '25/02/2021' in DD/MM/YYYY format. Provide format or specify infer_datetime_format=True for consistent parsing.\n",
      "  cache_array = _maybe_cache(arg, format, cache, convert_listlike)\n",
      "c:\\Users\\Acer\\anaconda3\\lib\\site-packages\\pandas\\core\\tools\\datetimes.py:1063: UserWarning: Parsing '27/02/2021' in DD/MM/YYYY format. Provide format or specify infer_datetime_format=True for consistent parsing.\n",
      "  cache_array = _maybe_cache(arg, format, cache, convert_listlike)\n",
      "c:\\Users\\Acer\\anaconda3\\lib\\site-packages\\pandas\\core\\tools\\datetimes.py:1063: UserWarning: Parsing '28/02/2021' in DD/MM/YYYY format. Provide format or specify infer_datetime_format=True for consistent parsing.\n",
      "  cache_array = _maybe_cache(arg, format, cache, convert_listlike)\n",
      "c:\\Users\\Acer\\anaconda3\\lib\\site-packages\\pandas\\core\\tools\\datetimes.py:1063: UserWarning: Parsing '13/03/2021' in DD/MM/YYYY format. Provide format or specify infer_datetime_format=True for consistent parsing.\n",
      "  cache_array = _maybe_cache(arg, format, cache, convert_listlike)\n",
      "c:\\Users\\Acer\\anaconda3\\lib\\site-packages\\pandas\\core\\tools\\datetimes.py:1063: UserWarning: Parsing '14/03/2021' in DD/MM/YYYY format. Provide format or specify infer_datetime_format=True for consistent parsing.\n",
      "  cache_array = _maybe_cache(arg, format, cache, convert_listlike)\n",
      "c:\\Users\\Acer\\anaconda3\\lib\\site-packages\\pandas\\core\\tools\\datetimes.py:1063: UserWarning: Parsing '15/03/2021' in DD/MM/YYYY format. Provide format or specify infer_datetime_format=True for consistent parsing.\n",
      "  cache_array = _maybe_cache(arg, format, cache, convert_listlike)\n",
      "c:\\Users\\Acer\\anaconda3\\lib\\site-packages\\pandas\\core\\tools\\datetimes.py:1063: UserWarning: Parsing '16/03/2021' in DD/MM/YYYY format. Provide format or specify infer_datetime_format=True for consistent parsing.\n",
      "  cache_array = _maybe_cache(arg, format, cache, convert_listlike)\n",
      "c:\\Users\\Acer\\anaconda3\\lib\\site-packages\\pandas\\core\\tools\\datetimes.py:1063: UserWarning: Parsing '17/03/2021' in DD/MM/YYYY format. Provide format or specify infer_datetime_format=True for consistent parsing.\n",
      "  cache_array = _maybe_cache(arg, format, cache, convert_listlike)\n",
      "c:\\Users\\Acer\\anaconda3\\lib\\site-packages\\pandas\\core\\tools\\datetimes.py:1063: UserWarning: Parsing '18/03/2021' in DD/MM/YYYY format. Provide format or specify infer_datetime_format=True for consistent parsing.\n",
      "  cache_array = _maybe_cache(arg, format, cache, convert_listlike)\n",
      "c:\\Users\\Acer\\anaconda3\\lib\\site-packages\\pandas\\core\\tools\\datetimes.py:1063: UserWarning: Parsing '20/03/2021' in DD/MM/YYYY format. Provide format or specify infer_datetime_format=True for consistent parsing.\n",
      "  cache_array = _maybe_cache(arg, format, cache, convert_listlike)\n",
      "c:\\Users\\Acer\\anaconda3\\lib\\site-packages\\pandas\\core\\tools\\datetimes.py:1063: UserWarning: Parsing '21/03/2021' in DD/MM/YYYY format. Provide format or specify infer_datetime_format=True for consistent parsing.\n",
      "  cache_array = _maybe_cache(arg, format, cache, convert_listlike)\n",
      "c:\\Users\\Acer\\anaconda3\\lib\\site-packages\\pandas\\core\\tools\\datetimes.py:1063: UserWarning: Parsing '22/03/2021' in DD/MM/YYYY format. Provide format or specify infer_datetime_format=True for consistent parsing.\n",
      "  cache_array = _maybe_cache(arg, format, cache, convert_listlike)\n",
      "c:\\Users\\Acer\\anaconda3\\lib\\site-packages\\pandas\\core\\tools\\datetimes.py:1063: UserWarning: Parsing '23/03/2021' in DD/MM/YYYY format. Provide format or specify infer_datetime_format=True for consistent parsing.\n",
      "  cache_array = _maybe_cache(arg, format, cache, convert_listlike)\n",
      "c:\\Users\\Acer\\anaconda3\\lib\\site-packages\\pandas\\core\\tools\\datetimes.py:1063: UserWarning: Parsing '24/03/2021' in DD/MM/YYYY format. Provide format or specify infer_datetime_format=True for consistent parsing.\n",
      "  cache_array = _maybe_cache(arg, format, cache, convert_listlike)\n",
      "c:\\Users\\Acer\\anaconda3\\lib\\site-packages\\pandas\\core\\tools\\datetimes.py:1063: UserWarning: Parsing '25/03/2021' in DD/MM/YYYY format. Provide format or specify infer_datetime_format=True for consistent parsing.\n",
      "  cache_array = _maybe_cache(arg, format, cache, convert_listlike)\n",
      "c:\\Users\\Acer\\anaconda3\\lib\\site-packages\\pandas\\core\\tools\\datetimes.py:1063: UserWarning: Parsing '26/03/2021' in DD/MM/YYYY format. Provide format or specify infer_datetime_format=True for consistent parsing.\n",
      "  cache_array = _maybe_cache(arg, format, cache, convert_listlike)\n",
      "c:\\Users\\Acer\\anaconda3\\lib\\site-packages\\pandas\\core\\tools\\datetimes.py:1063: UserWarning: Parsing '27/03/2021' in DD/MM/YYYY format. Provide format or specify infer_datetime_format=True for consistent parsing.\n",
      "  cache_array = _maybe_cache(arg, format, cache, convert_listlike)\n",
      "c:\\Users\\Acer\\anaconda3\\lib\\site-packages\\pandas\\core\\tools\\datetimes.py:1063: UserWarning: Parsing '28/03/2021' in DD/MM/YYYY format. Provide format or specify infer_datetime_format=True for consistent parsing.\n",
      "  cache_array = _maybe_cache(arg, format, cache, convert_listlike)\n",
      "c:\\Users\\Acer\\anaconda3\\lib\\site-packages\\pandas\\core\\tools\\datetimes.py:1063: UserWarning: Parsing '29/03/2021' in DD/MM/YYYY format. Provide format or specify infer_datetime_format=True for consistent parsing.\n",
      "  cache_array = _maybe_cache(arg, format, cache, convert_listlike)\n",
      "c:\\Users\\Acer\\anaconda3\\lib\\site-packages\\pandas\\core\\tools\\datetimes.py:1063: UserWarning: Parsing '31/03/2021' in DD/MM/YYYY format. Provide format or specify infer_datetime_format=True for consistent parsing.\n",
      "  cache_array = _maybe_cache(arg, format, cache, convert_listlike)\n",
      "c:\\Users\\Acer\\anaconda3\\lib\\site-packages\\pandas\\core\\tools\\datetimes.py:1063: UserWarning: Parsing '13/04/2021' in DD/MM/YYYY format. Provide format or specify infer_datetime_format=True for consistent parsing.\n",
      "  cache_array = _maybe_cache(arg, format, cache, convert_listlike)\n",
      "c:\\Users\\Acer\\anaconda3\\lib\\site-packages\\pandas\\core\\tools\\datetimes.py:1063: UserWarning: Parsing '14/04/2021' in DD/MM/YYYY format. Provide format or specify infer_datetime_format=True for consistent parsing.\n",
      "  cache_array = _maybe_cache(arg, format, cache, convert_listlike)\n",
      "c:\\Users\\Acer\\anaconda3\\lib\\site-packages\\pandas\\core\\tools\\datetimes.py:1063: UserWarning: Parsing '15/04/2021' in DD/MM/YYYY format. Provide format or specify infer_datetime_format=True for consistent parsing.\n",
      "  cache_array = _maybe_cache(arg, format, cache, convert_listlike)\n",
      "c:\\Users\\Acer\\anaconda3\\lib\\site-packages\\pandas\\core\\tools\\datetimes.py:1063: UserWarning: Parsing '16/04/2021' in DD/MM/YYYY format. Provide format or specify infer_datetime_format=True for consistent parsing.\n",
      "  cache_array = _maybe_cache(arg, format, cache, convert_listlike)\n",
      "c:\\Users\\Acer\\anaconda3\\lib\\site-packages\\pandas\\core\\tools\\datetimes.py:1063: UserWarning: Parsing '17/04/2021' in DD/MM/YYYY format. Provide format or specify infer_datetime_format=True for consistent parsing.\n",
      "  cache_array = _maybe_cache(arg, format, cache, convert_listlike)\n",
      "c:\\Users\\Acer\\anaconda3\\lib\\site-packages\\pandas\\core\\tools\\datetimes.py:1063: UserWarning: Parsing '18/04/2021' in DD/MM/YYYY format. Provide format or specify infer_datetime_format=True for consistent parsing.\n",
      "  cache_array = _maybe_cache(arg, format, cache, convert_listlike)\n",
      "c:\\Users\\Acer\\anaconda3\\lib\\site-packages\\pandas\\core\\tools\\datetimes.py:1063: UserWarning: Parsing '20/04/2021' in DD/MM/YYYY format. Provide format or specify infer_datetime_format=True for consistent parsing.\n",
      "  cache_array = _maybe_cache(arg, format, cache, convert_listlike)\n",
      "c:\\Users\\Acer\\anaconda3\\lib\\site-packages\\pandas\\core\\tools\\datetimes.py:1063: UserWarning: Parsing '21/04/2021' in DD/MM/YYYY format. Provide format or specify infer_datetime_format=True for consistent parsing.\n",
      "  cache_array = _maybe_cache(arg, format, cache, convert_listlike)\n",
      "c:\\Users\\Acer\\anaconda3\\lib\\site-packages\\pandas\\core\\tools\\datetimes.py:1063: UserWarning: Parsing '22/04/2021' in DD/MM/YYYY format. Provide format or specify infer_datetime_format=True for consistent parsing.\n",
      "  cache_array = _maybe_cache(arg, format, cache, convert_listlike)\n",
      "c:\\Users\\Acer\\anaconda3\\lib\\site-packages\\pandas\\core\\tools\\datetimes.py:1063: UserWarning: Parsing '23/04/2021' in DD/MM/YYYY format. Provide format or specify infer_datetime_format=True for consistent parsing.\n",
      "  cache_array = _maybe_cache(arg, format, cache, convert_listlike)\n",
      "c:\\Users\\Acer\\anaconda3\\lib\\site-packages\\pandas\\core\\tools\\datetimes.py:1063: UserWarning: Parsing '24/04/2021' in DD/MM/YYYY format. Provide format or specify infer_datetime_format=True for consistent parsing.\n",
      "  cache_array = _maybe_cache(arg, format, cache, convert_listlike)\n",
      "c:\\Users\\Acer\\anaconda3\\lib\\site-packages\\pandas\\core\\tools\\datetimes.py:1063: UserWarning: Parsing '25/04/2021' in DD/MM/YYYY format. Provide format or specify infer_datetime_format=True for consistent parsing.\n",
      "  cache_array = _maybe_cache(arg, format, cache, convert_listlike)\n",
      "c:\\Users\\Acer\\anaconda3\\lib\\site-packages\\pandas\\core\\tools\\datetimes.py:1063: UserWarning: Parsing '26/04/2021' in DD/MM/YYYY format. Provide format or specify infer_datetime_format=True for consistent parsing.\n",
      "  cache_array = _maybe_cache(arg, format, cache, convert_listlike)\n",
      "c:\\Users\\Acer\\anaconda3\\lib\\site-packages\\pandas\\core\\tools\\datetimes.py:1063: UserWarning: Parsing '27/04/2021' in DD/MM/YYYY format. Provide format or specify infer_datetime_format=True for consistent parsing.\n",
      "  cache_array = _maybe_cache(arg, format, cache, convert_listlike)\n",
      "c:\\Users\\Acer\\anaconda3\\lib\\site-packages\\pandas\\core\\tools\\datetimes.py:1063: UserWarning: Parsing '29/04/2021' in DD/MM/YYYY format. Provide format or specify infer_datetime_format=True for consistent parsing.\n",
      "  cache_array = _maybe_cache(arg, format, cache, convert_listlike)\n",
      "c:\\Users\\Acer\\anaconda3\\lib\\site-packages\\pandas\\core\\tools\\datetimes.py:1063: UserWarning: Parsing '30/04/2021' in DD/MM/YYYY format. Provide format or specify infer_datetime_format=True for consistent parsing.\n",
      "  cache_array = _maybe_cache(arg, format, cache, convert_listlike)\n",
      "c:\\Users\\Acer\\anaconda3\\lib\\site-packages\\pandas\\core\\tools\\datetimes.py:1063: UserWarning: Parsing '15/05/2021' in DD/MM/YYYY format. Provide format or specify infer_datetime_format=True for consistent parsing.\n",
      "  cache_array = _maybe_cache(arg, format, cache, convert_listlike)\n",
      "c:\\Users\\Acer\\anaconda3\\lib\\site-packages\\pandas\\core\\tools\\datetimes.py:1063: UserWarning: Parsing '16/05/2021' in DD/MM/YYYY format. Provide format or specify infer_datetime_format=True for consistent parsing.\n",
      "  cache_array = _maybe_cache(arg, format, cache, convert_listlike)\n",
      "c:\\Users\\Acer\\anaconda3\\lib\\site-packages\\pandas\\core\\tools\\datetimes.py:1063: UserWarning: Parsing '17/05/2021' in DD/MM/YYYY format. Provide format or specify infer_datetime_format=True for consistent parsing.\n",
      "  cache_array = _maybe_cache(arg, format, cache, convert_listlike)\n",
      "c:\\Users\\Acer\\anaconda3\\lib\\site-packages\\pandas\\core\\tools\\datetimes.py:1063: UserWarning: Parsing '18/05/2021' in DD/MM/YYYY format. Provide format or specify infer_datetime_format=True for consistent parsing.\n",
      "  cache_array = _maybe_cache(arg, format, cache, convert_listlike)\n",
      "c:\\Users\\Acer\\anaconda3\\lib\\site-packages\\pandas\\core\\tools\\datetimes.py:1063: UserWarning: Parsing '20/05/2021' in DD/MM/YYYY format. Provide format or specify infer_datetime_format=True for consistent parsing.\n",
      "  cache_array = _maybe_cache(arg, format, cache, convert_listlike)\n",
      "c:\\Users\\Acer\\anaconda3\\lib\\site-packages\\pandas\\core\\tools\\datetimes.py:1063: UserWarning: Parsing '21/05/2021' in DD/MM/YYYY format. Provide format or specify infer_datetime_format=True for consistent parsing.\n",
      "  cache_array = _maybe_cache(arg, format, cache, convert_listlike)\n",
      "c:\\Users\\Acer\\anaconda3\\lib\\site-packages\\pandas\\core\\tools\\datetimes.py:1063: UserWarning: Parsing '22/05/2021' in DD/MM/YYYY format. Provide format or specify infer_datetime_format=True for consistent parsing.\n",
      "  cache_array = _maybe_cache(arg, format, cache, convert_listlike)\n",
      "c:\\Users\\Acer\\anaconda3\\lib\\site-packages\\pandas\\core\\tools\\datetimes.py:1063: UserWarning: Parsing '23/05/2021' in DD/MM/YYYY format. Provide format or specify infer_datetime_format=True for consistent parsing.\n",
      "  cache_array = _maybe_cache(arg, format, cache, convert_listlike)\n",
      "c:\\Users\\Acer\\anaconda3\\lib\\site-packages\\pandas\\core\\tools\\datetimes.py:1063: UserWarning: Parsing '25/05/2021' in DD/MM/YYYY format. Provide format or specify infer_datetime_format=True for consistent parsing.\n",
      "  cache_array = _maybe_cache(arg, format, cache, convert_listlike)\n",
      "c:\\Users\\Acer\\anaconda3\\lib\\site-packages\\pandas\\core\\tools\\datetimes.py:1063: UserWarning: Parsing '26/05/2021' in DD/MM/YYYY format. Provide format or specify infer_datetime_format=True for consistent parsing.\n",
      "  cache_array = _maybe_cache(arg, format, cache, convert_listlike)\n",
      "c:\\Users\\Acer\\anaconda3\\lib\\site-packages\\pandas\\core\\tools\\datetimes.py:1063: UserWarning: Parsing '27/05/2021' in DD/MM/YYYY format. Provide format or specify infer_datetime_format=True for consistent parsing.\n",
      "  cache_array = _maybe_cache(arg, format, cache, convert_listlike)\n",
      "c:\\Users\\Acer\\anaconda3\\lib\\site-packages\\pandas\\core\\tools\\datetimes.py:1063: UserWarning: Parsing '28/05/2021' in DD/MM/YYYY format. Provide format or specify infer_datetime_format=True for consistent parsing.\n",
      "  cache_array = _maybe_cache(arg, format, cache, convert_listlike)\n",
      "c:\\Users\\Acer\\anaconda3\\lib\\site-packages\\pandas\\core\\tools\\datetimes.py:1063: UserWarning: Parsing '29/05/2021' in DD/MM/YYYY format. Provide format or specify infer_datetime_format=True for consistent parsing.\n",
      "  cache_array = _maybe_cache(arg, format, cache, convert_listlike)\n",
      "c:\\Users\\Acer\\anaconda3\\lib\\site-packages\\pandas\\core\\tools\\datetimes.py:1063: UserWarning: Parsing '30/05/2021' in DD/MM/YYYY format. Provide format or specify infer_datetime_format=True for consistent parsing.\n",
      "  cache_array = _maybe_cache(arg, format, cache, convert_listlike)\n",
      "c:\\Users\\Acer\\anaconda3\\lib\\site-packages\\pandas\\core\\tools\\datetimes.py:1063: UserWarning: Parsing '31/05/2021' in DD/MM/YYYY format. Provide format or specify infer_datetime_format=True for consistent parsing.\n",
      "  cache_array = _maybe_cache(arg, format, cache, convert_listlike)\n",
      "c:\\Users\\Acer\\anaconda3\\lib\\site-packages\\pandas\\core\\tools\\datetimes.py:1063: UserWarning: Parsing '13/06/2021' in DD/MM/YYYY format. Provide format or specify infer_datetime_format=True for consistent parsing.\n",
      "  cache_array = _maybe_cache(arg, format, cache, convert_listlike)\n",
      "c:\\Users\\Acer\\anaconda3\\lib\\site-packages\\pandas\\core\\tools\\datetimes.py:1063: UserWarning: Parsing '14/06/2021' in DD/MM/YYYY format. Provide format or specify infer_datetime_format=True for consistent parsing.\n",
      "  cache_array = _maybe_cache(arg, format, cache, convert_listlike)\n",
      "c:\\Users\\Acer\\anaconda3\\lib\\site-packages\\pandas\\core\\tools\\datetimes.py:1063: UserWarning: Parsing '16/06/2021' in DD/MM/YYYY format. Provide format or specify infer_datetime_format=True for consistent parsing.\n",
      "  cache_array = _maybe_cache(arg, format, cache, convert_listlike)\n",
      "c:\\Users\\Acer\\anaconda3\\lib\\site-packages\\pandas\\core\\tools\\datetimes.py:1063: UserWarning: Parsing '17/06/2021' in DD/MM/YYYY format. Provide format or specify infer_datetime_format=True for consistent parsing.\n",
      "  cache_array = _maybe_cache(arg, format, cache, convert_listlike)\n",
      "c:\\Users\\Acer\\anaconda3\\lib\\site-packages\\pandas\\core\\tools\\datetimes.py:1063: UserWarning: Parsing '18/06/2021' in DD/MM/YYYY format. Provide format or specify infer_datetime_format=True for consistent parsing.\n",
      "  cache_array = _maybe_cache(arg, format, cache, convert_listlike)\n",
      "c:\\Users\\Acer\\anaconda3\\lib\\site-packages\\pandas\\core\\tools\\datetimes.py:1063: UserWarning: Parsing '19/06/2021' in DD/MM/YYYY format. Provide format or specify infer_datetime_format=True for consistent parsing.\n",
      "  cache_array = _maybe_cache(arg, format, cache, convert_listlike)\n",
      "c:\\Users\\Acer\\anaconda3\\lib\\site-packages\\pandas\\core\\tools\\datetimes.py:1063: UserWarning: Parsing '20/06/2021' in DD/MM/YYYY format. Provide format or specify infer_datetime_format=True for consistent parsing.\n",
      "  cache_array = _maybe_cache(arg, format, cache, convert_listlike)\n",
      "c:\\Users\\Acer\\anaconda3\\lib\\site-packages\\pandas\\core\\tools\\datetimes.py:1063: UserWarning: Parsing '21/06/2021' in DD/MM/YYYY format. Provide format or specify infer_datetime_format=True for consistent parsing.\n",
      "  cache_array = _maybe_cache(arg, format, cache, convert_listlike)\n",
      "c:\\Users\\Acer\\anaconda3\\lib\\site-packages\\pandas\\core\\tools\\datetimes.py:1063: UserWarning: Parsing '22/06/2021' in DD/MM/YYYY format. Provide format or specify infer_datetime_format=True for consistent parsing.\n",
      "  cache_array = _maybe_cache(arg, format, cache, convert_listlike)\n",
      "c:\\Users\\Acer\\anaconda3\\lib\\site-packages\\pandas\\core\\tools\\datetimes.py:1063: UserWarning: Parsing '23/06/2021' in DD/MM/YYYY format. Provide format or specify infer_datetime_format=True for consistent parsing.\n",
      "  cache_array = _maybe_cache(arg, format, cache, convert_listlike)\n",
      "c:\\Users\\Acer\\anaconda3\\lib\\site-packages\\pandas\\core\\tools\\datetimes.py:1063: UserWarning: Parsing '24/06/2021' in DD/MM/YYYY format. Provide format or specify infer_datetime_format=True for consistent parsing.\n",
      "  cache_array = _maybe_cache(arg, format, cache, convert_listlike)\n",
      "c:\\Users\\Acer\\anaconda3\\lib\\site-packages\\pandas\\core\\tools\\datetimes.py:1063: UserWarning: Parsing '25/06/2021' in DD/MM/YYYY format. Provide format or specify infer_datetime_format=True for consistent parsing.\n",
      "  cache_array = _maybe_cache(arg, format, cache, convert_listlike)\n",
      "c:\\Users\\Acer\\anaconda3\\lib\\site-packages\\pandas\\core\\tools\\datetimes.py:1063: UserWarning: Parsing '26/06/2021' in DD/MM/YYYY format. Provide format or specify infer_datetime_format=True for consistent parsing.\n",
      "  cache_array = _maybe_cache(arg, format, cache, convert_listlike)\n",
      "c:\\Users\\Acer\\anaconda3\\lib\\site-packages\\pandas\\core\\tools\\datetimes.py:1063: UserWarning: Parsing '27/06/2021' in DD/MM/YYYY format. Provide format or specify infer_datetime_format=True for consistent parsing.\n",
      "  cache_array = _maybe_cache(arg, format, cache, convert_listlike)\n",
      "c:\\Users\\Acer\\anaconda3\\lib\\site-packages\\pandas\\core\\tools\\datetimes.py:1063: UserWarning: Parsing '28/06/2021' in DD/MM/YYYY format. Provide format or specify infer_datetime_format=True for consistent parsing.\n",
      "  cache_array = _maybe_cache(arg, format, cache, convert_listlike)\n",
      "c:\\Users\\Acer\\anaconda3\\lib\\site-packages\\pandas\\core\\tools\\datetimes.py:1063: UserWarning: Parsing '29/06/2021' in DD/MM/YYYY format. Provide format or specify infer_datetime_format=True for consistent parsing.\n",
      "  cache_array = _maybe_cache(arg, format, cache, convert_listlike)\n",
      "c:\\Users\\Acer\\anaconda3\\lib\\site-packages\\pandas\\core\\tools\\datetimes.py:1063: UserWarning: Parsing '30/06/2021' in DD/MM/YYYY format. Provide format or specify infer_datetime_format=True for consistent parsing.\n",
      "  cache_array = _maybe_cache(arg, format, cache, convert_listlike)\n",
      "c:\\Users\\Acer\\anaconda3\\lib\\site-packages\\pandas\\core\\tools\\datetimes.py:1063: UserWarning: Parsing '13/07/2021' in DD/MM/YYYY format. Provide format or specify infer_datetime_format=True for consistent parsing.\n",
      "  cache_array = _maybe_cache(arg, format, cache, convert_listlike)\n",
      "c:\\Users\\Acer\\anaconda3\\lib\\site-packages\\pandas\\core\\tools\\datetimes.py:1063: UserWarning: Parsing '14/07/2021' in DD/MM/YYYY format. Provide format or specify infer_datetime_format=True for consistent parsing.\n",
      "  cache_array = _maybe_cache(arg, format, cache, convert_listlike)\n",
      "c:\\Users\\Acer\\anaconda3\\lib\\site-packages\\pandas\\core\\tools\\datetimes.py:1063: UserWarning: Parsing '15/07/2021' in DD/MM/YYYY format. Provide format or specify infer_datetime_format=True for consistent parsing.\n",
      "  cache_array = _maybe_cache(arg, format, cache, convert_listlike)\n",
      "c:\\Users\\Acer\\anaconda3\\lib\\site-packages\\pandas\\core\\tools\\datetimes.py:1063: UserWarning: Parsing '16/07/2021' in DD/MM/YYYY format. Provide format or specify infer_datetime_format=True for consistent parsing.\n",
      "  cache_array = _maybe_cache(arg, format, cache, convert_listlike)\n",
      "c:\\Users\\Acer\\anaconda3\\lib\\site-packages\\pandas\\core\\tools\\datetimes.py:1063: UserWarning: Parsing '17/07/2021' in DD/MM/YYYY format. Provide format or specify infer_datetime_format=True for consistent parsing.\n",
      "  cache_array = _maybe_cache(arg, format, cache, convert_listlike)\n",
      "c:\\Users\\Acer\\anaconda3\\lib\\site-packages\\pandas\\core\\tools\\datetimes.py:1063: UserWarning: Parsing '18/07/2021' in DD/MM/YYYY format. Provide format or specify infer_datetime_format=True for consistent parsing.\n",
      "  cache_array = _maybe_cache(arg, format, cache, convert_listlike)\n",
      "c:\\Users\\Acer\\anaconda3\\lib\\site-packages\\pandas\\core\\tools\\datetimes.py:1063: UserWarning: Parsing '19/07/2021' in DD/MM/YYYY format. Provide format or specify infer_datetime_format=True for consistent parsing.\n",
      "  cache_array = _maybe_cache(arg, format, cache, convert_listlike)\n",
      "c:\\Users\\Acer\\anaconda3\\lib\\site-packages\\pandas\\core\\tools\\datetimes.py:1063: UserWarning: Parsing '20/07/2021' in DD/MM/YYYY format. Provide format or specify infer_datetime_format=True for consistent parsing.\n",
      "  cache_array = _maybe_cache(arg, format, cache, convert_listlike)\n",
      "c:\\Users\\Acer\\anaconda3\\lib\\site-packages\\pandas\\core\\tools\\datetimes.py:1063: UserWarning: Parsing '21/07/2021' in DD/MM/YYYY format. Provide format or specify infer_datetime_format=True for consistent parsing.\n",
      "  cache_array = _maybe_cache(arg, format, cache, convert_listlike)\n",
      "c:\\Users\\Acer\\anaconda3\\lib\\site-packages\\pandas\\core\\tools\\datetimes.py:1063: UserWarning: Parsing '22/07/2021' in DD/MM/YYYY format. Provide format or specify infer_datetime_format=True for consistent parsing.\n",
      "  cache_array = _maybe_cache(arg, format, cache, convert_listlike)\n",
      "c:\\Users\\Acer\\anaconda3\\lib\\site-packages\\pandas\\core\\tools\\datetimes.py:1063: UserWarning: Parsing '23/07/2021' in DD/MM/YYYY format. Provide format or specify infer_datetime_format=True for consistent parsing.\n",
      "  cache_array = _maybe_cache(arg, format, cache, convert_listlike)\n",
      "c:\\Users\\Acer\\anaconda3\\lib\\site-packages\\pandas\\core\\tools\\datetimes.py:1063: UserWarning: Parsing '24/07/2021' in DD/MM/YYYY format. Provide format or specify infer_datetime_format=True for consistent parsing.\n",
      "  cache_array = _maybe_cache(arg, format, cache, convert_listlike)\n",
      "c:\\Users\\Acer\\anaconda3\\lib\\site-packages\\pandas\\core\\tools\\datetimes.py:1063: UserWarning: Parsing '25/07/2021' in DD/MM/YYYY format. Provide format or specify infer_datetime_format=True for consistent parsing.\n",
      "  cache_array = _maybe_cache(arg, format, cache, convert_listlike)\n",
      "c:\\Users\\Acer\\anaconda3\\lib\\site-packages\\pandas\\core\\tools\\datetimes.py:1063: UserWarning: Parsing '27/07/2021' in DD/MM/YYYY format. Provide format or specify infer_datetime_format=True for consistent parsing.\n",
      "  cache_array = _maybe_cache(arg, format, cache, convert_listlike)\n",
      "c:\\Users\\Acer\\anaconda3\\lib\\site-packages\\pandas\\core\\tools\\datetimes.py:1063: UserWarning: Parsing '28/07/2021' in DD/MM/YYYY format. Provide format or specify infer_datetime_format=True for consistent parsing.\n",
      "  cache_array = _maybe_cache(arg, format, cache, convert_listlike)\n",
      "c:\\Users\\Acer\\anaconda3\\lib\\site-packages\\pandas\\core\\tools\\datetimes.py:1063: UserWarning: Parsing '29/07/2021' in DD/MM/YYYY format. Provide format or specify infer_datetime_format=True for consistent parsing.\n",
      "  cache_array = _maybe_cache(arg, format, cache, convert_listlike)\n",
      "c:\\Users\\Acer\\anaconda3\\lib\\site-packages\\pandas\\core\\tools\\datetimes.py:1063: UserWarning: Parsing '30/07/2021' in DD/MM/YYYY format. Provide format or specify infer_datetime_format=True for consistent parsing.\n",
      "  cache_array = _maybe_cache(arg, format, cache, convert_listlike)\n",
      "c:\\Users\\Acer\\anaconda3\\lib\\site-packages\\pandas\\core\\tools\\datetimes.py:1063: UserWarning: Parsing '31/07/2021' in DD/MM/YYYY format. Provide format or specify infer_datetime_format=True for consistent parsing.\n",
      "  cache_array = _maybe_cache(arg, format, cache, convert_listlike)\n"
     ]
    }
   ],
   "source": [
    "df_transaksi_main['Tanggal_Transaksi'] = df_transaksi_main['Tanggal_Transaksi'].astype('datetime64[ns]')"
   ]
  },
  {
   "cell_type": "code",
   "execution_count": 44,
   "metadata": {},
   "outputs": [
    {
     "data": {
      "text/plain": [
       "Tanggal_Transaksi\n",
       "2021-01-31    40225532\n",
       "2021-02-28    32863312\n",
       "2021-03-31    96811783\n",
       "2021-04-30    98586985\n",
       "2021-05-31    62409530\n",
       "2021-06-30    87145749\n",
       "2021-07-31    62064744\n",
       "2021-08-31    34262700\n",
       "2021-09-30    35899550\n",
       "2021-10-31    11479600\n",
       "2021-11-30     8600999\n",
       "2021-12-31    27629365\n",
       "Freq: M, Name: Harga_Asli, dtype: int32"
      ]
     },
     "execution_count": 44,
     "metadata": {},
     "output_type": "execute_result"
    }
   ],
   "source": [
    "revenue_bulanan = df_transaksi_main.groupby(pd.Grouper(key='Tanggal_Transaksi', freq='M')).sum()['Harga_Asli']\n",
    "revenue_bulanan"
   ]
  },
  {
   "cell_type": "code",
   "execution_count": 45,
   "metadata": {},
   "outputs": [
    {
     "data": {
      "text/html": [
       "<div>\n",
       "<style scoped>\n",
       "    .dataframe tbody tr th:only-of-type {\n",
       "        vertical-align: middle;\n",
       "    }\n",
       "\n",
       "    .dataframe tbody tr th {\n",
       "        vertical-align: top;\n",
       "    }\n",
       "\n",
       "    .dataframe thead th {\n",
       "        text-align: right;\n",
       "    }\n",
       "</style>\n",
       "<table border=\"1\" class=\"dataframe\">\n",
       "  <thead>\n",
       "    <tr style=\"text-align: right;\">\n",
       "      <th></th>\n",
       "      <th>Tanggal_Service</th>\n",
       "      <th>Harga_Service</th>\n",
       "      <th>Customer</th>\n",
       "      <th>Tipe_Jasa</th>\n",
       "      <th>ID</th>\n",
       "    </tr>\n",
       "  </thead>\n",
       "  <tbody>\n",
       "    <tr>\n",
       "      <th>0</th>\n",
       "      <td>4/1/2021</td>\n",
       "      <td>130000</td>\n",
       "      <td>Wevishar</td>\n",
       "      <td>Jasa D</td>\n",
       "      <td>1</td>\n",
       "    </tr>\n",
       "    <tr>\n",
       "      <th>1</th>\n",
       "      <td>4/1/2021</td>\n",
       "      <td>82000</td>\n",
       "      <td>Eniola</td>\n",
       "      <td>Jasa D</td>\n",
       "      <td>2</td>\n",
       "    </tr>\n",
       "    <tr>\n",
       "      <th>2</th>\n",
       "      <td>4/1/2021</td>\n",
       "      <td>79000</td>\n",
       "      <td>Chi</td>\n",
       "      <td>Jasa D</td>\n",
       "      <td>3</td>\n",
       "    </tr>\n",
       "    <tr>\n",
       "      <th>3</th>\n",
       "      <td>4/1/2021</td>\n",
       "      <td>70000</td>\n",
       "      <td>Moes</td>\n",
       "      <td>Jasa B</td>\n",
       "      <td>4</td>\n",
       "    </tr>\n",
       "    <tr>\n",
       "      <th>4</th>\n",
       "      <td>6/1/2021</td>\n",
       "      <td>70000</td>\n",
       "      <td>Mudiwa</td>\n",
       "      <td>Jasa A</td>\n",
       "      <td>5</td>\n",
       "    </tr>\n",
       "  </tbody>\n",
       "</table>\n",
       "</div>"
      ],
      "text/plain": [
       "  Tanggal_Service  Harga_Service  Customer Tipe_Jasa  ID\n",
       "0        4/1/2021         130000  Wevishar    Jasa D   1\n",
       "1        4/1/2021          82000    Eniola    Jasa D   2\n",
       "2        4/1/2021          79000       Chi    Jasa D   3\n",
       "3        4/1/2021          70000      Moes    Jasa B   4\n",
       "4        6/1/2021          70000    Mudiwa    Jasa A   5"
      ]
     },
     "execution_count": 45,
     "metadata": {},
     "output_type": "execute_result"
    }
   ],
   "source": [
    "df_transaksi_service.head()"
   ]
  },
  {
   "cell_type": "code",
   "execution_count": 46,
   "metadata": {},
   "outputs": [],
   "source": [
    "df_transaksi_service['Tanggal_Service'] = df_transaksi_service['Tanggal_Service'].astype('datetime64[ns]')"
   ]
  },
  {
   "cell_type": "code",
   "execution_count": 47,
   "metadata": {},
   "outputs": [
    {
     "data": {
      "text/plain": [
       "Tanggal_Service\n",
       "2021-01-31    10682500\n",
       "2021-02-28    12023400\n",
       "2021-03-31     5046607\n",
       "2021-04-30     7327700\n",
       "2021-05-31     5040100\n",
       "2021-06-30     2635000\n",
       "2021-07-31     2691478\n",
       "2021-08-31     1286900\n",
       "2021-09-30     1914270\n",
       "2021-10-31     2344400\n",
       "2021-11-30     2213000\n",
       "2021-12-31     1175000\n",
       "Freq: M, Name: Harga_Service, dtype: int32"
      ]
     },
     "execution_count": 47,
     "metadata": {},
     "output_type": "execute_result"
    }
   ],
   "source": [
    "revenue_bulanan_service = df_transaksi_service.groupby(pd.Grouper(key='Tanggal_Service', freq='M')).sum()['Harga_Service']\n",
    "revenue_bulanan_service"
   ]
  },
  {
   "cell_type": "code",
   "execution_count": 48,
   "metadata": {},
   "outputs": [],
   "source": [
    "# Menghitung revenue bulanan (product + service)\n",
    "total_revenue_bulanan = revenue_bulanan + revenue_bulanan_service"
   ]
  },
  {
   "cell_type": "code",
   "execution_count": 49,
   "metadata": {},
   "outputs": [
    {
     "data": {
      "text/plain": [
       "DatetimeIndex(['2021-01-31', '2021-02-28', '2021-03-31', '2021-04-30',\n",
       "               '2021-05-31', '2021-06-30', '2021-07-31', '2021-08-31',\n",
       "               '2021-09-30', '2021-10-31', '2021-11-30', '2021-12-31'],\n",
       "              dtype='datetime64[ns]', name='Tanggal_Transaksi', freq='M')"
      ]
     },
     "execution_count": 49,
     "metadata": {},
     "output_type": "execute_result"
    }
   ],
   "source": [
    "total_revenue_bulanan.index"
   ]
  },
  {
   "cell_type": "code",
   "execution_count": 50,
   "metadata": {},
   "outputs": [
    {
     "data": {
      "image/png": "[encoded data removed]",
      "text/plain": [
       "<Figure size 640x480 with 1 Axes>"
      ]
     },
     "metadata": {},
     "output_type": "display_data"
    }
   ],
   "source": [
    "# membuat line chart\n",
    "plt.plot(revenue_bulanan_service.index, revenue_bulanan_service.values)\n",
    "\n",
    "# memberi judul pada chart dan sumbu-sumbunya\n",
    "plt.title('Revenue Bulanan (Product + Service) Tahun 2021')\n",
    "plt.xlabel('Bulan')\n",
    "plt.ylabel('Total Revenue')\n",
    "\n",
    "# menampilkan grid\n",
    "plt.grid(True)\n",
    "\n",
    "# menampilkan chart\n",
    "plt.show()\n"
   ]
  },
  {
   "attachments": {},
   "cell_type": "markdown",
   "metadata": {},
   "source": [
    "#### 4. Apa produk yang paling disukai berdasarkan Gender?"
   ]
  },
  {
   "cell_type": "code",
   "execution_count": 51,
   "metadata": {},
   "outputs": [
    {
     "data": {
      "text/html": [
       "<div>\n",
       "<style scoped>\n",
       "    .dataframe tbody tr th:only-of-type {\n",
       "        vertical-align: middle;\n",
       "    }\n",
       "\n",
       "    .dataframe tbody tr th {\n",
       "        vertical-align: top;\n",
       "    }\n",
       "\n",
       "    .dataframe thead th {\n",
       "        text-align: right;\n",
       "    }\n",
       "</style>\n",
       "<table border=\"1\" class=\"dataframe\">\n",
       "  <thead>\n",
       "    <tr style=\"text-align: right;\">\n",
       "      <th></th>\n",
       "      <th>Name</th>\n",
       "      <th>Domisili</th>\n",
       "      <th>Usia</th>\n",
       "      <th>Gender</th>\n",
       "      <th>Tanggal_Transaksi</th>\n",
       "      <th>Nama_Sales</th>\n",
       "      <th>Harga_Asli</th>\n",
       "      <th>Customer</th>\n",
       "      <th>Customer_copy</th>\n",
       "      <th>Tipe_Produk</th>\n",
       "      <th>ID_Transaksi</th>\n",
       "    </tr>\n",
       "  </thead>\n",
       "  <tbody>\n",
       "    <tr>\n",
       "      <th>0</th>\n",
       "      <td>Ufuoma</td>\n",
       "      <td>Bali</td>\n",
       "      <td>48</td>\n",
       "      <td>Pria</td>\n",
       "      <td>2021-01-01</td>\n",
       "      <td>Octroy</td>\n",
       "      <td>88000</td>\n",
       "      <td>Ufuoma</td>\n",
       "      <td>Ufuoma</td>\n",
       "      <td>Produk F</td>\n",
       "      <td>1</td>\n",
       "    </tr>\n",
       "    <tr>\n",
       "      <th>1</th>\n",
       "      <td>Wiati</td>\n",
       "      <td>Jakarta</td>\n",
       "      <td>47</td>\n",
       "      <td>Wanita</td>\n",
       "      <td>2021-01-01</td>\n",
       "      <td>Octroy</td>\n",
       "      <td>405000</td>\n",
       "      <td>Wiati</td>\n",
       "      <td>Wiati</td>\n",
       "      <td>Produk C</td>\n",
       "      <td>2</td>\n",
       "    </tr>\n",
       "    <tr>\n",
       "      <th>2</th>\n",
       "      <td>Cuphulien</td>\n",
       "      <td>Jawa Barat</td>\n",
       "      <td>42</td>\n",
       "      <td>Wanita</td>\n",
       "      <td>2021-02-01</td>\n",
       "      <td>Aini</td>\n",
       "      <td>405000</td>\n",
       "      <td>Cuphulien</td>\n",
       "      <td>Cuphulien</td>\n",
       "      <td>Produk A</td>\n",
       "      <td>3</td>\n",
       "    </tr>\n",
       "    <tr>\n",
       "      <th>3</th>\n",
       "      <td>Cuphulien</td>\n",
       "      <td>Jawa Barat</td>\n",
       "      <td>42</td>\n",
       "      <td>Wanita</td>\n",
       "      <td>2021-02-01</td>\n",
       "      <td>Agus</td>\n",
       "      <td>170000</td>\n",
       "      <td>Cuphulien</td>\n",
       "      <td>Cuphulien</td>\n",
       "      <td>Produk G</td>\n",
       "      <td>4</td>\n",
       "    </tr>\n",
       "    <tr>\n",
       "      <th>4</th>\n",
       "      <td>Nah</td>\n",
       "      <td>Jakarta</td>\n",
       "      <td>23</td>\n",
       "      <td>Wanita</td>\n",
       "      <td>2021-02-01</td>\n",
       "      <td>Aini</td>\n",
       "      <td>730000</td>\n",
       "      <td>Nah</td>\n",
       "      <td>Nah</td>\n",
       "      <td>Produk D</td>\n",
       "      <td>5</td>\n",
       "    </tr>\n",
       "  </tbody>\n",
       "</table>\n",
       "</div>"
      ],
      "text/plain": [
       "        Name    Domisili  Usia  Gender Tanggal_Transaksi Nama_Sales  \\\n",
       "0     Ufuoma        Bali    48    Pria        2021-01-01     Octroy   \n",
       "1      Wiati     Jakarta    47  Wanita        2021-01-01     Octroy   \n",
       "2  Cuphulien  Jawa Barat    42  Wanita        2021-02-01       Aini   \n",
       "3  Cuphulien  Jawa Barat    42  Wanita        2021-02-01       Agus   \n",
       "4        Nah     Jakarta    23  Wanita        2021-02-01       Aini   \n",
       "\n",
       "   Harga_Asli   Customer Customer_copy Tipe_Produk  ID_Transaksi  \n",
       "0       88000     Ufuoma        Ufuoma    Produk F             1  \n",
       "1      405000      Wiati         Wiati    Produk C             2  \n",
       "2      405000  Cuphulien     Cuphulien    Produk A             3  \n",
       "3      170000  Cuphulien     Cuphulien    Produk G             4  \n",
       "4      730000        Nah           Nah    Produk D             5  "
      ]
     },
     "execution_count": 51,
     "metadata": {},
     "output_type": "execute_result"
    }
   ],
   "source": [
    "df_produk_favorit = pd.merge(df_customer, df_transaksi_main, left_on='Name', right_on='Customer', how='right')\n",
    "df_produk_favorit.head()"
   ]
  },
  {
   "cell_type": "code",
   "execution_count": 52,
   "metadata": {},
   "outputs": [
    {
     "data": {
      "text/plain": [
       "Gender  Tipe_Produk\n",
       "Wanita  Produk D       59\n",
       "        Produk E       59\n",
       "        Produk B       48\n",
       "        Produk G       47\n",
       "        Produk F       46\n",
       "        Produk C       44\n",
       "        Produk A       37\n",
       "Pria    Produk E       22\n",
       "        Produk F       18\n",
       "        Produk A       17\n",
       "        Produk B       17\n",
       "        Produk C       16\n",
       "        Produk G       15\n",
       "        Produk D       13\n",
       "Name: Tipe_Produk, dtype: int64"
      ]
     },
     "execution_count": 52,
     "metadata": {},
     "output_type": "execute_result"
    }
   ],
   "source": [
    "# Mencari Produk Favorit Berdasarkan Gender\n",
    "df_produk_favorit.groupby(by='Gender')['Tipe_Produk'].value_counts().sort_values(ascending=False)"
   ]
  },
  {
   "cell_type": "code",
   "execution_count": 53,
   "metadata": {},
   "outputs": [
    {
     "data": {
      "text/plain": [
       "Usia  Tipe_Produk\n",
       "27    Produk E       8\n",
       "23    Produk E       8\n",
       "17    Produk E       7\n",
       "41    Produk F       7\n",
       "17    Produk A       6\n",
       "                    ..\n",
       "35    Produk G       1\n",
       "      Produk F       1\n",
       "      Produk E       1\n",
       "      Produk C       1\n",
       "48    Produk F       1\n",
       "Name: Tipe_Produk, Length: 176, dtype: int64"
      ]
     },
     "execution_count": 53,
     "metadata": {},
     "output_type": "execute_result"
    }
   ],
   "source": [
    "# Mencari Produk Favorit Berdasarkan Usia\n",
    "df_produk_favorit.groupby(by='Usia')['Tipe_Produk'].value_counts().sort_values(ascending=False)"
   ]
  },
  {
   "cell_type": "code",
   "execution_count": 54,
   "metadata": {},
   "outputs": [
    {
     "data": {
      "image/png": "[encoded data removed]",
      "text/plain": [
       "<Figure size 1000x600 with 1 Axes>"
      ]
     },
     "metadata": {},
     "output_type": "display_data"
    }
   ],
   "source": [
    "# Membuat pivot table dengan jumlah produk favorit berdasarkan gender dan tipe produk\n",
    "pivot_table_produk_favorit = df_produk_favorit.pivot_table(index='Gender', columns='Tipe_Produk', aggfunc='size', fill_value=0)\n",
    "\n",
    "# Membuat bar plot\n",
    "ax = pivot_table_produk_favorit.plot(kind='bar', figsize=(10, 6))\n",
    "\n",
    "# Menambahkan label pada setiap batang\n",
    "for p in ax.patches:\n",
    "    ax.annotate(str(p.get_height()), (p.get_x() + p.get_width() / 2., p.get_height()),\n",
    "                ha='center', va='center', xytext=(0, 10), textcoords='offset points')\n",
    "\n",
    "# Menambahkan judul dan label sumbu pada plot\n",
    "plt.title('Jumlah Produk Favorit Berdasarkan Gender dan Tipe Produk')\n",
    "plt.xlabel('Gender')\n",
    "plt.xticks(rotation=0)\n",
    "plt.ylabel('Jumlah Pembelian Produk')\n",
    "\n",
    "# Menampilkan plot\n",
    "plt.show()"
   ]
  },
  {
   "attachments": {},
   "cell_type": "markdown",
   "metadata": {},
   "source": [
    "#### 5. Bagaimana kondisi demografi customer?\n",
    "* Jumlah customer per domisili\n",
    "* Rata-rata Usia berdasarkan gender per Domisili\n",
    "* Jumlah gender per domisili"
   ]
  },
  {
   "cell_type": "code",
   "execution_count": 55,
   "metadata": {},
   "outputs": [
    {
     "data": {
      "text/plain": [
       "Domisili\n",
       "Jawa Barat        16\n",
       "Bali              14\n",
       "Jakarta           14\n",
       "Luar Indonesia    11\n",
       "Name: Name, dtype: int64"
      ]
     },
     "execution_count": 55,
     "metadata": {},
     "output_type": "execute_result"
    }
   ],
   "source": [
    "# Jumlah Customer Per Domisili\n",
    "df_customer.groupby(by='Domisili')['Name'].count().sort_values(ascending=False)"
   ]
  },
  {
   "cell_type": "code",
   "execution_count": 56,
   "metadata": {},
   "outputs": [
    {
     "data": {
      "text/plain": [
       "Domisili\n",
       "Bali              31.0\n",
       "Jakarta           30.0\n",
       "Jawa Barat        26.0\n",
       "Luar Indonesia    30.0\n",
       "Name: Usia, dtype: float64"
      ]
     },
     "execution_count": 56,
     "metadata": {},
     "output_type": "execute_result"
    }
   ],
   "source": [
    "# Rata-rata usia customer per Domisili\n",
    "df_customer.groupby(by='Domisili')['Usia'].mean().round()"
   ]
  },
  {
   "cell_type": "code",
   "execution_count": 57,
   "metadata": {},
   "outputs": [
    {
     "data": {
      "text/plain": [
       "Domisili\n",
       "Bali              12\n",
       "Jakarta           11\n",
       "Jawa Barat        11\n",
       "Luar Indonesia    18\n",
       "Name: Usia, dtype: int64"
      ]
     },
     "execution_count": 57,
     "metadata": {},
     "output_type": "execute_result"
    }
   ],
   "source": [
    "# Customer dengan usia paling muda per Domisili\n",
    "df_customer.groupby(by='Domisili')['Usia'].min()"
   ]
  },
  {
   "cell_type": "code",
   "execution_count": 58,
   "metadata": {},
   "outputs": [
    {
     "data": {
      "text/plain": [
       "Domisili\n",
       "Bali              48\n",
       "Jakarta           47\n",
       "Jawa Barat        42\n",
       "Luar Indonesia    41\n",
       "Name: Usia, dtype: int64"
      ]
     },
     "execution_count": 58,
     "metadata": {},
     "output_type": "execute_result"
    }
   ],
   "source": [
    "# Customer dengan usia paling tua per Domisili\n",
    "df_customer.groupby(by='Domisili')['Usia'].max()"
   ]
  },
  {
   "cell_type": "code",
   "execution_count": 59,
   "metadata": {},
   "outputs": [
    {
     "data": {
      "text/plain": [
       "Domisili\n",
       "Bali              31.0\n",
       "Jakarta           31.0\n",
       "Jawa Barat        25.0\n",
       "Luar Indonesia    30.0\n",
       "Name: Usia, dtype: float64"
      ]
     },
     "execution_count": 59,
     "metadata": {},
     "output_type": "execute_result"
    }
   ],
   "source": [
    "# Median umur customer per Domisili\n",
    "df_customer.groupby(by='Domisili')['Usia'].median()"
   ]
  },
  {
   "cell_type": "code",
   "execution_count": 60,
   "metadata": {},
   "outputs": [
    {
     "data": {
      "text/plain": [
       "Domisili        Gender\n",
       "Bali            Wanita    10\n",
       "                Pria       4\n",
       "Jakarta         Wanita    10\n",
       "                Pria       4\n",
       "Jawa Barat      Wanita    14\n",
       "                Pria       2\n",
       "Luar Indonesia  Wanita     6\n",
       "                Pria       5\n",
       "Name: Gender, dtype: int64"
      ]
     },
     "execution_count": 60,
     "metadata": {},
     "output_type": "execute_result"
    }
   ],
   "source": [
    "# Jumlah customer berdasarkan Gender per Domisili\n",
    "df_customer.groupby(by='Domisili')['Gender'].value_counts()"
   ]
  },
  {
   "attachments": {},
   "cell_type": "markdown",
   "metadata": {},
   "source": [
    "#### 6. Berapa rata-rata rating yang diberikan dari customer ke perusahaan dan masing-masing tipe produk?"
   ]
  },
  {
   "cell_type": "code",
   "execution_count": 61,
   "metadata": {},
   "outputs": [
    {
     "data": {
      "text/html": [
       "<div>\n",
       "<style scoped>\n",
       "    .dataframe tbody tr th:only-of-type {\n",
       "        vertical-align: middle;\n",
       "    }\n",
       "\n",
       "    .dataframe tbody tr th {\n",
       "        vertical-align: top;\n",
       "    }\n",
       "\n",
       "    .dataframe thead th {\n",
       "        text-align: right;\n",
       "    }\n",
       "</style>\n",
       "<table border=\"1\" class=\"dataframe\">\n",
       "  <thead>\n",
       "    <tr style=\"text-align: right;\">\n",
       "      <th></th>\n",
       "      <th>Name</th>\n",
       "      <th>Domisili</th>\n",
       "      <th>Usia</th>\n",
       "      <th>Gender</th>\n",
       "      <th>Rating</th>\n",
       "    </tr>\n",
       "  </thead>\n",
       "  <tbody>\n",
       "    <tr>\n",
       "      <th>0</th>\n",
       "      <td>Chi</td>\n",
       "      <td>Bali</td>\n",
       "      <td>32</td>\n",
       "      <td>Pria</td>\n",
       "      <td>5</td>\n",
       "    </tr>\n",
       "    <tr>\n",
       "      <th>1</th>\n",
       "      <td>Dubaku</td>\n",
       "      <td>Bali</td>\n",
       "      <td>28</td>\n",
       "      <td>Pria</td>\n",
       "      <td>4</td>\n",
       "    </tr>\n",
       "    <tr>\n",
       "      <th>2</th>\n",
       "      <td>Taurai</td>\n",
       "      <td>Jakarta</td>\n",
       "      <td>35</td>\n",
       "      <td>Wanita</td>\n",
       "      <td>5</td>\n",
       "    </tr>\n",
       "    <tr>\n",
       "      <th>3</th>\n",
       "      <td>Thokozani</td>\n",
       "      <td>Luar Indonesia</td>\n",
       "      <td>36</td>\n",
       "      <td>Pria</td>\n",
       "      <td>4</td>\n",
       "    </tr>\n",
       "    <tr>\n",
       "      <th>4</th>\n",
       "      <td>Ufuoma</td>\n",
       "      <td>Bali</td>\n",
       "      <td>48</td>\n",
       "      <td>Pria</td>\n",
       "      <td>4</td>\n",
       "    </tr>\n",
       "  </tbody>\n",
       "</table>\n",
       "</div>"
      ],
      "text/plain": [
       "        Name        Domisili  Usia  Gender  Rating\n",
       "0        Chi            Bali    32    Pria       5\n",
       "1     Dubaku            Bali    28    Pria       4\n",
       "2     Taurai         Jakarta    35  Wanita       5\n",
       "3  Thokozani  Luar Indonesia    36    Pria       4\n",
       "4     Ufuoma            Bali    48    Pria       4"
      ]
     },
     "execution_count": 61,
     "metadata": {},
     "output_type": "execute_result"
    }
   ],
   "source": [
    "rating_perusahaan = pd.merge(df_customer, df_review_perusahaan, on='Name', how='right')\n",
    "rating_perusahaan.head()"
   ]
  },
  {
   "cell_type": "code",
   "execution_count": 62,
   "metadata": {},
   "outputs": [
    {
     "data": {
      "text/plain": [
       "3.5454545454545454"
      ]
     },
     "execution_count": 62,
     "metadata": {},
     "output_type": "execute_result"
    }
   ],
   "source": [
    "rating_perusahaan['Rating'].mean()"
   ]
  },
  {
   "cell_type": "code",
   "execution_count": 63,
   "metadata": {},
   "outputs": [
    {
     "data": {
      "text/plain": [
       "Domisili\n",
       "Jawa Barat        3.750000\n",
       "Jakarta           3.642857\n",
       "Luar Indonesia    3.454545\n",
       "Bali              3.285714\n",
       "Name: Rating, dtype: float64"
      ]
     },
     "execution_count": 63,
     "metadata": {},
     "output_type": "execute_result"
    }
   ],
   "source": [
    "rating_perusahaan.groupby(by='Domisili')['Rating'].mean().sort_values(ascending=False)"
   ]
  },
  {
   "cell_type": "code",
   "execution_count": 64,
   "metadata": {},
   "outputs": [
    {
     "data": {
      "text/plain": [
       "Gender\n",
       "Pria      3.533333\n",
       "Wanita    3.550000\n",
       "Name: Rating, dtype: float64"
      ]
     },
     "execution_count": 64,
     "metadata": {},
     "output_type": "execute_result"
    }
   ],
   "source": [
    "rating_perusahaan.groupby(by='Gender')['Rating'].mean()"
   ]
  },
  {
   "cell_type": "code",
   "execution_count": 65,
   "metadata": {},
   "outputs": [
    {
     "data": {
      "text/html": [
       "<div>\n",
       "<style scoped>\n",
       "    .dataframe tbody tr th:only-of-type {\n",
       "        vertical-align: middle;\n",
       "    }\n",
       "\n",
       "    .dataframe tbody tr th {\n",
       "        vertical-align: top;\n",
       "    }\n",
       "\n",
       "    .dataframe thead th {\n",
       "        text-align: right;\n",
       "    }\n",
       "</style>\n",
       "<table border=\"1\" class=\"dataframe\">\n",
       "  <thead>\n",
       "    <tr style=\"text-align: right;\">\n",
       "      <th></th>\n",
       "      <th>ID_Review</th>\n",
       "      <th>Review</th>\n",
       "      <th>Tanggal_Transaksi</th>\n",
       "      <th>Nama_Sales</th>\n",
       "      <th>Harga_Asli</th>\n",
       "      <th>Customer</th>\n",
       "      <th>Customer_copy</th>\n",
       "      <th>Tipe_Produk</th>\n",
       "      <th>ID_Transaksi</th>\n",
       "    </tr>\n",
       "  </thead>\n",
       "  <tbody>\n",
       "    <tr>\n",
       "      <th>0</th>\n",
       "      <td>1</td>\n",
       "      <td>4.0</td>\n",
       "      <td>2021-01-01</td>\n",
       "      <td>Octroy</td>\n",
       "      <td>88000</td>\n",
       "      <td>Ufuoma</td>\n",
       "      <td>Ufuoma</td>\n",
       "      <td>Produk F</td>\n",
       "      <td>1</td>\n",
       "    </tr>\n",
       "    <tr>\n",
       "      <th>1</th>\n",
       "      <td>2</td>\n",
       "      <td>4.0</td>\n",
       "      <td>2021-01-01</td>\n",
       "      <td>Octroy</td>\n",
       "      <td>405000</td>\n",
       "      <td>Wiati</td>\n",
       "      <td>Wiati</td>\n",
       "      <td>Produk C</td>\n",
       "      <td>2</td>\n",
       "    </tr>\n",
       "    <tr>\n",
       "      <th>2</th>\n",
       "      <td>3</td>\n",
       "      <td>4.0</td>\n",
       "      <td>2021-02-01</td>\n",
       "      <td>Aini</td>\n",
       "      <td>405000</td>\n",
       "      <td>Cuphulien</td>\n",
       "      <td>Cuphulien</td>\n",
       "      <td>Produk A</td>\n",
       "      <td>3</td>\n",
       "    </tr>\n",
       "    <tr>\n",
       "      <th>3</th>\n",
       "      <td>4</td>\n",
       "      <td>4.0</td>\n",
       "      <td>2021-02-01</td>\n",
       "      <td>Agus</td>\n",
       "      <td>170000</td>\n",
       "      <td>Cuphulien</td>\n",
       "      <td>Cuphulien</td>\n",
       "      <td>Produk G</td>\n",
       "      <td>4</td>\n",
       "    </tr>\n",
       "    <tr>\n",
       "      <th>4</th>\n",
       "      <td>5</td>\n",
       "      <td>5.0</td>\n",
       "      <td>2021-02-01</td>\n",
       "      <td>Aini</td>\n",
       "      <td>730000</td>\n",
       "      <td>Nah</td>\n",
       "      <td>Nah</td>\n",
       "      <td>Produk D</td>\n",
       "      <td>5</td>\n",
       "    </tr>\n",
       "  </tbody>\n",
       "</table>\n",
       "</div>"
      ],
      "text/plain": [
       "   ID_Review  Review Tanggal_Transaksi Nama_Sales  Harga_Asli   Customer  \\\n",
       "0          1     4.0        2021-01-01     Octroy       88000     Ufuoma   \n",
       "1          2     4.0        2021-01-01     Octroy      405000      Wiati   \n",
       "2          3     4.0        2021-02-01       Aini      405000  Cuphulien   \n",
       "3          4     4.0        2021-02-01       Agus      170000  Cuphulien   \n",
       "4          5     5.0        2021-02-01       Aini      730000        Nah   \n",
       "\n",
       "  Customer_copy Tipe_Produk  ID_Transaksi  \n",
       "0        Ufuoma    Produk F             1  \n",
       "1         Wiati    Produk C             2  \n",
       "2     Cuphulien    Produk A             3  \n",
       "3     Cuphulien    Produk G             4  \n",
       "4           Nah    Produk D             5  "
      ]
     },
     "execution_count": 65,
     "metadata": {},
     "output_type": "execute_result"
    }
   ],
   "source": [
    "# Rating Produk\n",
    "rating_produk = pd.merge(df_review_produk, df_transaksi_main, left_on='ID_Review', right_on='ID_Transaksi', how='right')\n",
    "rating_produk.head()"
   ]
  },
  {
   "cell_type": "code",
   "execution_count": 66,
   "metadata": {},
   "outputs": [
    {
     "data": {
      "text/plain": [
       "Tipe_Produk\n",
       "Produk C    3.716667\n",
       "Produk B    3.661538\n",
       "Produk D    3.638889\n",
       "Produk G    3.612903\n",
       "Produk F    3.531250\n",
       "Produk E    3.518519\n",
       "Produk A    3.481481\n",
       "Name: Review, dtype: float64"
      ]
     },
     "execution_count": 66,
     "metadata": {},
     "output_type": "execute_result"
    }
   ],
   "source": [
    "# Rata-rata rating dari masing-masing Tipe Produk\n",
    "rating_produk.groupby(by='Tipe_Produk')['Review'].mean().sort_values(ascending=False)"
   ]
  },
  {
   "attachments": {},
   "cell_type": "markdown",
   "metadata": {},
   "source": [
    "#### 7. Berapa jumlah transaksi dan revenue yang didapatkan oleh perusahaan dari main product pada setiap campaign?"
   ]
  },
  {
   "cell_type": "code",
   "execution_count": 67,
   "metadata": {},
   "outputs": [
    {
     "data": {
      "text/html": [
       "<div>\n",
       "<style scoped>\n",
       "    .dataframe tbody tr th:only-of-type {\n",
       "        vertical-align: middle;\n",
       "    }\n",
       "\n",
       "    .dataframe tbody tr th {\n",
       "        vertical-align: top;\n",
       "    }\n",
       "\n",
       "    .dataframe thead th {\n",
       "        text-align: right;\n",
       "    }\n",
       "</style>\n",
       "<table border=\"1\" class=\"dataframe\">\n",
       "  <thead>\n",
       "    <tr style=\"text-align: right;\">\n",
       "      <th></th>\n",
       "      <th>Name</th>\n",
       "      <th>Start_Date</th>\n",
       "      <th>End_Date</th>\n",
       "      <th>Budget</th>\n",
       "    </tr>\n",
       "  </thead>\n",
       "  <tbody>\n",
       "    <tr>\n",
       "      <th>0</th>\n",
       "      <td>Campaign 1</td>\n",
       "      <td>2021-01-01</td>\n",
       "      <td>2021-01-31</td>\n",
       "      <td>10000000</td>\n",
       "    </tr>\n",
       "    <tr>\n",
       "      <th>1</th>\n",
       "      <td>Campaign 2</td>\n",
       "      <td>2021-01-02</td>\n",
       "      <td>2021-02-28</td>\n",
       "      <td>14000000</td>\n",
       "    </tr>\n",
       "    <tr>\n",
       "      <th>2</th>\n",
       "      <td>Campaign 3</td>\n",
       "      <td>2021-01-03</td>\n",
       "      <td>2021-03-31</td>\n",
       "      <td>23000000</td>\n",
       "    </tr>\n",
       "    <tr>\n",
       "      <th>3</th>\n",
       "      <td>Campaign 4</td>\n",
       "      <td>2021-01-04</td>\n",
       "      <td>2021-04-30</td>\n",
       "      <td>35000000</td>\n",
       "    </tr>\n",
       "    <tr>\n",
       "      <th>4</th>\n",
       "      <td>Campaign 5</td>\n",
       "      <td>2021-01-05</td>\n",
       "      <td>2021-05-31</td>\n",
       "      <td>36000000</td>\n",
       "    </tr>\n",
       "  </tbody>\n",
       "</table>\n",
       "</div>"
      ],
      "text/plain": [
       "         Name Start_Date   End_Date    Budget\n",
       "0  Campaign 1 2021-01-01 2021-01-31  10000000\n",
       "1  Campaign 2 2021-01-02 2021-02-28  14000000\n",
       "2  Campaign 3 2021-01-03 2021-03-31  23000000\n",
       "3  Campaign 4 2021-01-04 2021-04-30  35000000\n",
       "4  Campaign 5 2021-01-05 2021-05-31  36000000"
      ]
     },
     "execution_count": 67,
     "metadata": {},
     "output_type": "execute_result"
    }
   ],
   "source": [
    "df_campaign.head()"
   ]
  },
  {
   "cell_type": "code",
   "execution_count": 68,
   "metadata": {},
   "outputs": [
    {
     "data": {
      "text/html": [
       "<div>\n",
       "<style scoped>\n",
       "    .dataframe tbody tr th:only-of-type {\n",
       "        vertical-align: middle;\n",
       "    }\n",
       "\n",
       "    .dataframe tbody tr th {\n",
       "        vertical-align: top;\n",
       "    }\n",
       "\n",
       "    .dataframe thead th {\n",
       "        text-align: right;\n",
       "    }\n",
       "</style>\n",
       "<table border=\"1\" class=\"dataframe\">\n",
       "  <thead>\n",
       "    <tr style=\"text-align: right;\">\n",
       "      <th></th>\n",
       "      <th>Tanggal_Transaksi</th>\n",
       "      <th>Nama_Sales</th>\n",
       "      <th>Harga_Asli</th>\n",
       "      <th>Customer</th>\n",
       "      <th>Customer_copy</th>\n",
       "      <th>Tipe_Produk</th>\n",
       "      <th>ID_Transaksi</th>\n",
       "    </tr>\n",
       "  </thead>\n",
       "  <tbody>\n",
       "    <tr>\n",
       "      <th>0</th>\n",
       "      <td>2021-01-01</td>\n",
       "      <td>Octroy</td>\n",
       "      <td>88000</td>\n",
       "      <td>Ufuoma</td>\n",
       "      <td>Ufuoma</td>\n",
       "      <td>Produk F</td>\n",
       "      <td>1</td>\n",
       "    </tr>\n",
       "    <tr>\n",
       "      <th>1</th>\n",
       "      <td>2021-01-01</td>\n",
       "      <td>Octroy</td>\n",
       "      <td>405000</td>\n",
       "      <td>Wiati</td>\n",
       "      <td>Wiati</td>\n",
       "      <td>Produk C</td>\n",
       "      <td>2</td>\n",
       "    </tr>\n",
       "    <tr>\n",
       "      <th>2</th>\n",
       "      <td>2021-02-01</td>\n",
       "      <td>Aini</td>\n",
       "      <td>405000</td>\n",
       "      <td>Cuphulien</td>\n",
       "      <td>Cuphulien</td>\n",
       "      <td>Produk A</td>\n",
       "      <td>3</td>\n",
       "    </tr>\n",
       "    <tr>\n",
       "      <th>3</th>\n",
       "      <td>2021-02-01</td>\n",
       "      <td>Agus</td>\n",
       "      <td>170000</td>\n",
       "      <td>Cuphulien</td>\n",
       "      <td>Cuphulien</td>\n",
       "      <td>Produk G</td>\n",
       "      <td>4</td>\n",
       "    </tr>\n",
       "    <tr>\n",
       "      <th>4</th>\n",
       "      <td>2021-02-01</td>\n",
       "      <td>Aini</td>\n",
       "      <td>730000</td>\n",
       "      <td>Nah</td>\n",
       "      <td>Nah</td>\n",
       "      <td>Produk D</td>\n",
       "      <td>5</td>\n",
       "    </tr>\n",
       "  </tbody>\n",
       "</table>\n",
       "</div>"
      ],
      "text/plain": [
       "  Tanggal_Transaksi Nama_Sales  Harga_Asli   Customer Customer_copy  \\\n",
       "0        2021-01-01     Octroy       88000     Ufuoma        Ufuoma   \n",
       "1        2021-01-01     Octroy      405000      Wiati         Wiati   \n",
       "2        2021-02-01       Aini      405000  Cuphulien     Cuphulien   \n",
       "3        2021-02-01       Agus      170000  Cuphulien     Cuphulien   \n",
       "4        2021-02-01       Aini      730000        Nah           Nah   \n",
       "\n",
       "  Tipe_Produk  ID_Transaksi  \n",
       "0    Produk F             1  \n",
       "1    Produk C             2  \n",
       "2    Produk A             3  \n",
       "3    Produk G             4  \n",
       "4    Produk D             5  "
      ]
     },
     "execution_count": 68,
     "metadata": {},
     "output_type": "execute_result"
    }
   ],
   "source": [
    "df_transaksi_main.head()"
   ]
  },
  {
   "cell_type": "code",
   "execution_count": 69,
   "metadata": {},
   "outputs": [
    {
     "data": {
      "text/html": [
       "<div>\n",
       "<style scoped>\n",
       "    .dataframe tbody tr th:only-of-type {\n",
       "        vertical-align: middle;\n",
       "    }\n",
       "\n",
       "    .dataframe tbody tr th {\n",
       "        vertical-align: top;\n",
       "    }\n",
       "\n",
       "    .dataframe thead th {\n",
       "        text-align: right;\n",
       "    }\n",
       "</style>\n",
       "<table border=\"1\" class=\"dataframe\">\n",
       "  <thead>\n",
       "    <tr style=\"text-align: right;\">\n",
       "      <th></th>\n",
       "      <th>Name</th>\n",
       "      <th>Start_Date</th>\n",
       "      <th>End_Date</th>\n",
       "      <th>Budget</th>\n",
       "      <th>Bulan_Tahun</th>\n",
       "      <th>Tanggal_Transaksi</th>\n",
       "      <th>Nama_Sales</th>\n",
       "      <th>Harga_Asli</th>\n",
       "      <th>Customer</th>\n",
       "      <th>Customer_copy</th>\n",
       "      <th>Tipe_Produk</th>\n",
       "      <th>ID_Transaksi</th>\n",
       "    </tr>\n",
       "  </thead>\n",
       "  <tbody>\n",
       "    <tr>\n",
       "      <th>0</th>\n",
       "      <td>Campaign 1</td>\n",
       "      <td>2021-01-01</td>\n",
       "      <td>2021-01-31</td>\n",
       "      <td>10000000.0</td>\n",
       "      <td>2021/01</td>\n",
       "      <td>2021-01-01</td>\n",
       "      <td>Octroy</td>\n",
       "      <td>88000</td>\n",
       "      <td>Ufuoma</td>\n",
       "      <td>Ufuoma</td>\n",
       "      <td>Produk F</td>\n",
       "      <td>1</td>\n",
       "    </tr>\n",
       "    <tr>\n",
       "      <th>1</th>\n",
       "      <td>Campaign 1</td>\n",
       "      <td>2021-01-01</td>\n",
       "      <td>2021-01-31</td>\n",
       "      <td>10000000.0</td>\n",
       "      <td>2021/01</td>\n",
       "      <td>2021-01-01</td>\n",
       "      <td>Octroy</td>\n",
       "      <td>405000</td>\n",
       "      <td>Wiati</td>\n",
       "      <td>Wiati</td>\n",
       "      <td>Produk C</td>\n",
       "      <td>2</td>\n",
       "    </tr>\n",
       "    <tr>\n",
       "      <th>2</th>\n",
       "      <td>Campaign 2</td>\n",
       "      <td>2021-01-02</td>\n",
       "      <td>2021-02-28</td>\n",
       "      <td>14000000.0</td>\n",
       "      <td>2021/02</td>\n",
       "      <td>2021-02-01</td>\n",
       "      <td>Aini</td>\n",
       "      <td>405000</td>\n",
       "      <td>Cuphulien</td>\n",
       "      <td>Cuphulien</td>\n",
       "      <td>Produk A</td>\n",
       "      <td>3</td>\n",
       "    </tr>\n",
       "    <tr>\n",
       "      <th>3</th>\n",
       "      <td>Campaign 2</td>\n",
       "      <td>2021-01-02</td>\n",
       "      <td>2021-02-28</td>\n",
       "      <td>14000000.0</td>\n",
       "      <td>2021/02</td>\n",
       "      <td>2021-02-01</td>\n",
       "      <td>Agus</td>\n",
       "      <td>170000</td>\n",
       "      <td>Cuphulien</td>\n",
       "      <td>Cuphulien</td>\n",
       "      <td>Produk G</td>\n",
       "      <td>4</td>\n",
       "    </tr>\n",
       "    <tr>\n",
       "      <th>4</th>\n",
       "      <td>Campaign 2</td>\n",
       "      <td>2021-01-02</td>\n",
       "      <td>2021-02-28</td>\n",
       "      <td>14000000.0</td>\n",
       "      <td>2021/02</td>\n",
       "      <td>2021-02-01</td>\n",
       "      <td>Aini</td>\n",
       "      <td>730000</td>\n",
       "      <td>Nah</td>\n",
       "      <td>Nah</td>\n",
       "      <td>Produk D</td>\n",
       "      <td>5</td>\n",
       "    </tr>\n",
       "    <tr>\n",
       "      <th>...</th>\n",
       "      <td>...</td>\n",
       "      <td>...</td>\n",
       "      <td>...</td>\n",
       "      <td>...</td>\n",
       "      <td>...</td>\n",
       "      <td>...</td>\n",
       "      <td>...</td>\n",
       "      <td>...</td>\n",
       "      <td>...</td>\n",
       "      <td>...</td>\n",
       "      <td>...</td>\n",
       "      <td>...</td>\n",
       "    </tr>\n",
       "    <tr>\n",
       "      <th>453</th>\n",
       "      <td>Campaign 6</td>\n",
       "      <td>2021-01-06</td>\n",
       "      <td>2021-06-30</td>\n",
       "      <td>30000000.0</td>\n",
       "      <td>2021/06</td>\n",
       "      <td>2021-06-08</td>\n",
       "      <td>Octroy</td>\n",
       "      <td>407400</td>\n",
       "      <td>Adegoke</td>\n",
       "      <td>Adegoke</td>\n",
       "      <td>Produk A</td>\n",
       "      <td>454</td>\n",
       "    </tr>\n",
       "    <tr>\n",
       "      <th>454</th>\n",
       "      <td>Campaign 6</td>\n",
       "      <td>2021-01-06</td>\n",
       "      <td>2021-06-30</td>\n",
       "      <td>30000000.0</td>\n",
       "      <td>2021/06</td>\n",
       "      <td>2021-06-08</td>\n",
       "      <td>Octroy</td>\n",
       "      <td>1930000</td>\n",
       "      <td>Qayug</td>\n",
       "      <td>Qayug</td>\n",
       "      <td>Produk C</td>\n",
       "      <td>455</td>\n",
       "    </tr>\n",
       "    <tr>\n",
       "      <th>455</th>\n",
       "      <td>Campaign 6</td>\n",
       "      <td>2021-01-06</td>\n",
       "      <td>2021-06-30</td>\n",
       "      <td>30000000.0</td>\n",
       "      <td>2021/06</td>\n",
       "      <td>2021-06-08</td>\n",
       "      <td>Aini</td>\n",
       "      <td>1031500</td>\n",
       "      <td>Thauzhash</td>\n",
       "      <td>Thauzhash</td>\n",
       "      <td>Produk E</td>\n",
       "      <td>456</td>\n",
       "    </tr>\n",
       "    <tr>\n",
       "      <th>456</th>\n",
       "      <td>Campaign 7</td>\n",
       "      <td>2021-01-07</td>\n",
       "      <td>2021-07-31</td>\n",
       "      <td>37000000.0</td>\n",
       "      <td>2021/07</td>\n",
       "      <td>2021-07-08</td>\n",
       "      <td>Dena</td>\n",
       "      <td>2904000</td>\n",
       "      <td>Wevishar</td>\n",
       "      <td>Wevishar</td>\n",
       "      <td>Produk G</td>\n",
       "      <td>457</td>\n",
       "    </tr>\n",
       "    <tr>\n",
       "      <th>457</th>\n",
       "      <td>Campaign 7</td>\n",
       "      <td>2021-01-07</td>\n",
       "      <td>2021-07-31</td>\n",
       "      <td>37000000.0</td>\n",
       "      <td>2021/07</td>\n",
       "      <td>2021-07-08</td>\n",
       "      <td>Octroy</td>\n",
       "      <td>5900000</td>\n",
       "      <td>Taurai</td>\n",
       "      <td>Taurai</td>\n",
       "      <td>Produk D</td>\n",
       "      <td>458</td>\n",
       "    </tr>\n",
       "  </tbody>\n",
       "</table>\n",
       "<p>458 rows × 12 columns</p>\n",
       "</div>"
      ],
      "text/plain": [
       "           Name Start_Date   End_Date      Budget Bulan_Tahun  \\\n",
       "0    Campaign 1 2021-01-01 2021-01-31  10000000.0     2021/01   \n",
       "1    Campaign 1 2021-01-01 2021-01-31  10000000.0     2021/01   \n",
       "2    Campaign 2 2021-01-02 2021-02-28  14000000.0     2021/02   \n",
       "3    Campaign 2 2021-01-02 2021-02-28  14000000.0     2021/02   \n",
       "4    Campaign 2 2021-01-02 2021-02-28  14000000.0     2021/02   \n",
       "..          ...        ...        ...         ...         ...   \n",
       "453  Campaign 6 2021-01-06 2021-06-30  30000000.0     2021/06   \n",
       "454  Campaign 6 2021-01-06 2021-06-30  30000000.0     2021/06   \n",
       "455  Campaign 6 2021-01-06 2021-06-30  30000000.0     2021/06   \n",
       "456  Campaign 7 2021-01-07 2021-07-31  37000000.0     2021/07   \n",
       "457  Campaign 7 2021-01-07 2021-07-31  37000000.0     2021/07   \n",
       "\n",
       "    Tanggal_Transaksi Nama_Sales  Harga_Asli   Customer Customer_copy  \\\n",
       "0          2021-01-01     Octroy       88000     Ufuoma        Ufuoma   \n",
       "1          2021-01-01     Octroy      405000      Wiati         Wiati   \n",
       "2          2021-02-01       Aini      405000  Cuphulien     Cuphulien   \n",
       "3          2021-02-01       Agus      170000  Cuphulien     Cuphulien   \n",
       "4          2021-02-01       Aini      730000        Nah           Nah   \n",
       "..                ...        ...         ...        ...           ...   \n",
       "453        2021-06-08     Octroy      407400    Adegoke       Adegoke   \n",
       "454        2021-06-08     Octroy     1930000      Qayug         Qayug   \n",
       "455        2021-06-08       Aini     1031500  Thauzhash     Thauzhash   \n",
       "456        2021-07-08       Dena     2904000   Wevishar      Wevishar   \n",
       "457        2021-07-08     Octroy     5900000     Taurai        Taurai   \n",
       "\n",
       "    Tipe_Produk  ID_Transaksi  \n",
       "0      Produk F             1  \n",
       "1      Produk C             2  \n",
       "2      Produk A             3  \n",
       "3      Produk G             4  \n",
       "4      Produk D             5  \n",
       "..          ...           ...  \n",
       "453    Produk A           454  \n",
       "454    Produk C           455  \n",
       "455    Produk E           456  \n",
       "456    Produk G           457  \n",
       "457    Produk D           458  \n",
       "\n",
       "[458 rows x 12 columns]"
      ]
     },
     "execution_count": 69,
     "metadata": {},
     "output_type": "execute_result"
    }
   ],
   "source": [
    "# Mengubah kolom Start_Date dan Tanggal_Transaksi menjadi tipe data datetime\n",
    "df_campaign['Start_Date'] = pd.to_datetime(df_campaign['Start_Date'])\n",
    "df_transaksi_main['Tanggal_Transaksi'] = pd.to_datetime(df_transaksi_main['Tanggal_Transaksi'])\n",
    "\n",
    "# Membuat kolom baru berisi bulan dan tahun saja\n",
    "df_campaign['Bulan_Tahun'] = df_campaign['End_Date'].dt.strftime('%Y/%m')\n",
    "df_transaksi_main['Bulan_Tahun'] = df_transaksi_main['Tanggal_Transaksi'].dt.strftime('%Y/%m')\n",
    "\n",
    "# Menggabungkan kedua dataframe berdasarkan kolom Bulan_Tahun\n",
    "campaign_main_product = pd.merge(df_campaign, df_transaksi_main, left_on='Bulan_Tahun', right_on='Bulan_Tahun', how='right')\n",
    "campaign_main_product"
   ]
  },
  {
   "cell_type": "code",
   "execution_count": 70,
   "metadata": {},
   "outputs": [
    {
     "data": {
      "text/plain": [
       "Name\n",
       "Campaign 1    47\n",
       "Campaign 2    44\n",
       "Campaign 3    56\n",
       "Campaign 4    61\n",
       "Campaign 5    64\n",
       "Campaign 6    51\n",
       "Campaign 7    54\n",
       "Name: Customer, dtype: int64"
      ]
     },
     "execution_count": 70,
     "metadata": {},
     "output_type": "execute_result"
    }
   ],
   "source": [
    "# Jumlah Transaksi pada setiap campaign\n",
    "transaksi_main_product_campaign = campaign_main_product.groupby(by='Name')['Customer'].count()\n",
    "transaksi_main_product_campaign"
   ]
  },
  {
   "cell_type": "code",
   "execution_count": 71,
   "metadata": {},
   "outputs": [
    {
     "data": {
      "text/plain": [
       "Name\n",
       "Campaign 1    40225532\n",
       "Campaign 2    32863312\n",
       "Campaign 3    96811783\n",
       "Campaign 4    98586985\n",
       "Campaign 5    62409530\n",
       "Campaign 6    87145749\n",
       "Campaign 7    62064744\n",
       "Name: Harga_Asli, dtype: int32"
      ]
     },
     "execution_count": 71,
     "metadata": {},
     "output_type": "execute_result"
    }
   ],
   "source": [
    "# Total revenue yang didapatkan pada setiap campaign\n",
    "revenue_main_product_campaign = campaign_main_product.groupby(by='Name')['Harga_Asli'].sum()\n",
    "revenue_main_product_campaign"
   ]
  },
  {
   "attachments": {},
   "cell_type": "markdown",
   "metadata": {},
   "source": [
    "## **KESIMPULAN (Berdasarkan EDA)**"
   ]
  },
  {
   "attachments": {},
   "cell_type": "markdown",
   "metadata": {},
   "source": [
    "**1. Top 5 Customer Paling Loyal**\n",
    "* Bzayan, Mygneo, Nah, Tichaona, Ekyboo\n",
    "\n",
    "\n",
    "**2. Urutan Kota Pemberi Revenue Tertinggi - Terendah**\n",
    "* Jawa Barat: Rp. 203,480,015\n",
    "* Jakarta   : Rp. 168,396,590\n",
    "* Bali      : Rp. 119,182,433\n",
    "* Luar Indonesia    : Rp. 106,920,811\n",
    "\n",
    "\n",
    "**3. Total Revenue Bulanan Perusahaan (Produk + Service)**\n",
    "* 2021-01    : Rp. 40,225,532\n",
    "* 2021-02    : Rp. 32,863,312\n",
    "* 2021-03    : Rp. 96,811,783\n",
    "* 2021-04    : Rp. 98,586,985\n",
    "* 2021-05    : Rp. 62,409,530\n",
    "* 2021-06    : Rp. 87,145,749\n",
    "* 2021-07    : Rp. 62,064,744\n",
    "* 2021-08    : Rp. 34,262,700\n",
    "* 2021-09    : Rp. 35,899,550\n",
    "* 2021-10    : Rp. 11,479,600\n",
    "* 2021-11    : Rp. 8,600,999\n",
    "* 2021-12    : Rp. 27,629,365\n",
    "\n",
    "* Berdasarkan grafik yang ada di atas, revenue perusahaan selama tahun 2021 mengalami penurunan revenue. Penurunan paling signifikan ada pada bulan Maret 2021 ke bulan April 2021\n",
    "* Secara garis besar, revenue selalu menurun mulai bulan Mei 2021 hingga bulan Desember 2021\n",
    "\n",
    "\n",
    "**4. Produk Favorit (Jumlah Transaksi per Produk) Berdasarkan Gender Customer**\n",
    "\n",
    "Wanita :\n",
    "- Produk D : 59\n",
    "- Produk E : 59\n",
    "- Produk B : 48\n",
    "- Produk G : 47\n",
    "- Produk F : 46\n",
    "- Produk C : 44\n",
    "- Produk A : 37\n",
    "\n",
    "Pria :\n",
    "- Produk E : 22\n",
    "- Produk F : 18\n",
    "- Produk A : 17\n",
    "- Produk B : 17\n",
    "- Produk C : 16\n",
    "- Produk G : 15\n",
    "- Produk D : 13\n",
    "\n",
    "* Berdasarkan data dan grafik di atas, Customer dengan gender Wanita paling menyukai Tipe Produk D dan E, disusul dengan Tipe Produk B, G, F, C, dan yang paling sedikit adalah Tipe Produk A\n",
    "* Untuk customer dengan gender Pria paling menyukai Tipe Produk E, dan yang paling sedikit diminati adalah Tipe Produk D\n",
    "\n",
    "\n",
    "**5. Demografi Customer**\n",
    "\n",
    "Jumlah Customer Berdasarkan Domisili:\n",
    "- Jawa Barat       : 16\n",
    "- Bali             : 14\n",
    "- Jakarta          : 14\n",
    "- Luar Indonesia   : 11\n",
    "\n",
    "Rata-rata Usia Customer Per-Domisili:\n",
    "- Bali             : 31.0\n",
    "- Jakarta          : 30.0\n",
    "- Jawa Barat       : 26.0\n",
    "- Luar Indonesia   : 30.0\n",
    "\n",
    "Customer dengan umur paling muda Per-Domisili:\n",
    "- Bali             : 12\n",
    "- Jakarta          : 11\n",
    "- Jawa Barat       : 11\n",
    "- Luar Indonesia   : 18\n",
    "\n",
    "Customer dengan usia paling tua Per-Domisili:\n",
    "- Bali             : 48\n",
    "- Jakarta          : 47\n",
    "- Jawa Barat       : 42\n",
    "- Luar Indonesia   : 41\n",
    "\n",
    "Median umur customer per-Domisili:\n",
    "- Bali             : 31.0\n",
    "- Jakarta          : 31.0\n",
    "- Jawa Barat       : 25.0\n",
    "- Luar Indonesia   : 30.0\n",
    "\n",
    "Jumlah customer berdasarkan Gender Per-Domisili:\n",
    "\n",
    "Bali            \n",
    "- Wanita   : 10\n",
    "- Pria      : 4\n",
    "\n",
    "Jakarta    \n",
    "- Wanita   : 10\n",
    "- Pria      : 4\n",
    "\n",
    "Jawa Barat      \n",
    "- Wanita   : 14\n",
    "- Pria      : 2\n",
    "\n",
    "Luar Indonesia  \n",
    "- Wanita   :  6\n",
    "- Pria      : 5\n",
    "\n",
    "\n",
    "**6. Rating Perusahaan dan Rating Produk (Skala 0.00 - 5.00)**\n",
    "\n",
    "Rating rata-rata perusahaan yang diberikan oleh seluruh customer:\n",
    "- Rata-rata rating perusahaan : 3.54\n",
    "\n",
    "Rating rata-rata perusahaan berdasarkan Domisili:\n",
    "\n",
    "- Jawa Barat        : 3.75\n",
    "- Jakarta           : 3.64\n",
    "- Luar Indonesia    : 3.45\n",
    "- Bali              : 3.28\n",
    "\n",
    "Rating rata-rata Produk per-Tipe Produk:\n",
    "- Produk C    : 3.72\n",
    "- Produk B    : 3.66\n",
    "- Produk D    : 3.64\n",
    "- Produk G    : 3.61\n",
    "- Produk F    : 3.53\n",
    "- Produk E    : 3.52\n",
    "- Produk A    : 3.48\n",
    "\n",
    "**7. Jumlah Transaksi dan Revenue Perusahaan pada Setiap Campaign**\n",
    "\n",
    "Jumlah Transaksi pada setiap campaign:\n",
    "- Campaign 1    : 47\n",
    "- Campaign 2    : 44\n",
    "- Campaign 3    : 56\n",
    "- Campaign 4    : 61\n",
    "- Campaign 5    : 64\n",
    "- Campaign 6    : 51\n",
    "- Campaign 7    : 54\n",
    "\n",
    "Total revenue yang didapatkan pada setiap campaign:\n",
    "- Campaign 1    : Rp. 40,225,532\n",
    "- Campaign 2    : Rp. 32,863,312\n",
    "- Campaign 3    : Rp. 96,811,783\n",
    "- Campaign 4    : Rp. 98,586,985\n",
    "- Campaign 5    : Rp. 62,409,530\n",
    "- Campaign 6    : Rp. 87,145,749\n",
    "- Campaign 7    : Rp. 62,064,744\n"
   ]
  },
  {
   "attachments": {},
   "cell_type": "markdown",
   "metadata": {},
   "source": [
    "## SARAN (Berdasarkan Kesimpulan)"
   ]
  },
  {
   "attachments": {},
   "cell_type": "markdown",
   "metadata": {},
   "source": [
    "1. Perusahaan dapat lebih mengoptimalkan campaign agar lebih tepat sasaran dengan cara memperhatikan demografi customer (usia, gender, dan domisili) saat melakukan Ads di sosial media, ataupun paid promote (ketahui akun yang biasa diikuti oleh customer sesuai dengan target usia, gender, dan domisili). Dengan begitu, jumlah transaksi dan revenue mungkin akan lebih mencapai hasil yang maksimal.\n",
    "\n",
    "2. Beberapa perusahaan memilih untuk mengalokasikan anggaran marketing berdasarkan return on investment (ROI) yang diinginkan. Misalnya, jika perusahaan menginginkan ROI sebesar 3:1, perusahaan mungkin akan mengalokasikan anggaran marketing sekitar 33% dari target pendapatan mereka. Hal ini dapat diterapkan pada alokasi Budget Campaign dari Perusahaan.\n",
    "\n",
    "3. Saat menciptakan produk, harus dilakukan survei terlebih dahulu berdasarkan kebutuhan dan tren yang sedang dibutuhkan oleh calon customer. Hal ini dapat melalui berbagai cara, seperti scraping data dari media sosial, laman berita, maupun website e-commerce. Hal ini dapat dilakukan melalui Python.\n",
    "\n",
    "4. Untuk sosial media organic, dapat memaksimalkan konten yang menarik (sedang trending dan ada kaitannya dengan produk), copywriting (hashtag yang banyak dicari), aktif story instagram (interaktif, komunikasi dua arah dengan audience)"
   ]
  }
 ],
 "metadata": {
  "kernelspec": {
   "display_name": "base",
   "language": "python",
   "name": "python3"
  },
  "language_info": {
   "codemirror_mode": {
    "name": "ipython",
    "version": 3
   },
   "file_extension": ".py",
   "mimetype": "text/x-python",
   "name": "python",
   "nbconvert_exporter": "python",
   "pygments_lexer": "ipython3",
   "version": "3.9.13"
  },
  "orig_nbformat": 4
 },
 "nbformat": 4,
 "nbformat_minor": 2
}
